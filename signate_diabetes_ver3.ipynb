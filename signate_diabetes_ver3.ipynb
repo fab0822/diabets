{
  "nbformat": 4,
  "nbformat_minor": 0,
  "metadata": {
    "colab": {
      "name": "signate_diabetes_ver3.ipynb ",
      "provenance": [],
      "collapsed_sections": [],
      "authorship_tag": "ABX9TyPKv/yxReL/SdbJWQY1YQ42",
      "include_colab_link": true
    },
    "kernelspec": {
      "name": "python3",
      "display_name": "Python 3"
    }
  },
  "cells": [
    {
      "cell_type": "markdown",
      "metadata": {
        "id": "view-in-github",
        "colab_type": "text"
      },
      "source": [
        "<a href=\"https://colab.research.google.com/github/fab0822/diabets/blob/master/signate_diabetes_ver3.ipynb\" target=\"_parent\"><img src=\"https://colab.research.google.com/assets/colab-badge.svg\" alt=\"Open In Colab\"/></a>"
      ]
    },
    {
      "cell_type": "code",
      "metadata": {
        "id": "Qfz_qdvEvZVg"
      },
      "source": [
        "import numpy as np\r\n",
        "import pandas as pd\r\n",
        "import matplotlib.pyplot as plt\r\n",
        "import seaborn as sns\r\n",
        "from datetime import datetime\r\n",
        "import csv\r\n",
        "import warnings\r\n",
        "warnings.filterwarnings('ignore')\r\n",
        "\r\n",
        "import matplotlib.gridspec as gridspec\r\n",
        "from matplotlib.ticker import MaxNLocator\r\n",
        "\r\n",
        "import lightgbm as lgb\r\n",
        "from sklearn.model_selection import train_test_split\r\n",
        "from sklearn.model_selection import StratifiedKFold\r\n",
        "from sklearn.metrics import accuracy_score\r\n",
        "from sklearn.metrics import (roc_curve, auc)\r\n",
        "from sklearn.model_selection import GridSearchCV\r\n",
        "\r\n",
        "\r\n",
        "from google.colab import drive\r\n",
        "from google.colab import files"
      ],
      "execution_count": null,
      "outputs": []
    },
    {
      "cell_type": "code",
      "metadata": {
        "id": "XkHR9zOfUhVm"
      },
      "source": [
        "SEED = 2021\r\n",
        "NUM_COL = 8"
      ],
      "execution_count": null,
      "outputs": []
    },
    {
      "cell_type": "code",
      "metadata": {
        "colab": {
          "base_uri": "https://localhost:8080/"
        },
        "id": "1cUeitwAynz8",
        "outputId": "46862ede-0d5d-4df0-ee54-2df17b17befe"
      },
      "source": [
        "drive.mount('/content/drive')"
      ],
      "execution_count": null,
      "outputs": [
        {
          "output_type": "stream",
          "text": [
            "Drive already mounted at /content/drive; to attempt to forcibly remount, call drive.mount(\"/content/drive\", force_remount=True).\n"
          ],
          "name": "stdout"
        }
      ]
    },
    {
      "cell_type": "code",
      "metadata": {
        "id": "o3D4Qduz2-Tp"
      },
      "source": [
        "train = pd.read_csv('/content/drive/My Drive/train (1).csv')\r\n",
        "test = pd.read_csv('/content/drive/My Drive/test (1).csv')\r\n",
        "\r\n",
        "sub = pd.read_csv('/content/drive/My Drive/sample_submit (1).csv', header=None)"
      ],
      "execution_count": null,
      "outputs": []
    },
    {
      "cell_type": "code",
      "metadata": {
        "colab": {
          "base_uri": "https://localhost:8080/",
          "height": 407
        },
        "id": "6CQ_Dbg53ZJY",
        "outputId": "ad0b3d6e-beef-4c75-cbeb-ed5e16e4c057"
      },
      "source": [
        "sub"
      ],
      "execution_count": null,
      "outputs": [
        {
          "output_type": "execute_result",
          "data": {
            "text/html": [
              "<div>\n",
              "<style scoped>\n",
              "    .dataframe tbody tr th:only-of-type {\n",
              "        vertical-align: middle;\n",
              "    }\n",
              "\n",
              "    .dataframe tbody tr th {\n",
              "        vertical-align: top;\n",
              "    }\n",
              "\n",
              "    .dataframe thead th {\n",
              "        text-align: right;\n",
              "    }\n",
              "</style>\n",
              "<table border=\"1\" class=\"dataframe\">\n",
              "  <thead>\n",
              "    <tr style=\"text-align: right;\">\n",
              "      <th></th>\n",
              "      <th>0</th>\n",
              "      <th>1</th>\n",
              "    </tr>\n",
              "  </thead>\n",
              "  <tbody>\n",
              "    <tr>\n",
              "      <th>0</th>\n",
              "      <td>398</td>\n",
              "      <td>0</td>\n",
              "    </tr>\n",
              "    <tr>\n",
              "      <th>1</th>\n",
              "      <td>3833</td>\n",
              "      <td>0</td>\n",
              "    </tr>\n",
              "    <tr>\n",
              "      <th>2</th>\n",
              "      <td>4836</td>\n",
              "      <td>0</td>\n",
              "    </tr>\n",
              "    <tr>\n",
              "      <th>3</th>\n",
              "      <td>4572</td>\n",
              "      <td>0</td>\n",
              "    </tr>\n",
              "    <tr>\n",
              "      <th>4</th>\n",
              "      <td>636</td>\n",
              "      <td>0</td>\n",
              "    </tr>\n",
              "    <tr>\n",
              "      <th>...</th>\n",
              "      <td>...</td>\n",
              "      <td>...</td>\n",
              "    </tr>\n",
              "    <tr>\n",
              "      <th>1995</th>\n",
              "      <td>3138</td>\n",
              "      <td>0</td>\n",
              "    </tr>\n",
              "    <tr>\n",
              "      <th>1996</th>\n",
              "      <td>191</td>\n",
              "      <td>0</td>\n",
              "    </tr>\n",
              "    <tr>\n",
              "      <th>1997</th>\n",
              "      <td>3294</td>\n",
              "      <td>0</td>\n",
              "    </tr>\n",
              "    <tr>\n",
              "      <th>1998</th>\n",
              "      <td>3073</td>\n",
              "      <td>0</td>\n",
              "    </tr>\n",
              "    <tr>\n",
              "      <th>1999</th>\n",
              "      <td>361</td>\n",
              "      <td>0</td>\n",
              "    </tr>\n",
              "  </tbody>\n",
              "</table>\n",
              "<p>2000 rows × 2 columns</p>\n",
              "</div>"
            ],
            "text/plain": [
              "         0  1\n",
              "0      398  0\n",
              "1     3833  0\n",
              "2     4836  0\n",
              "3     4572  0\n",
              "4      636  0\n",
              "...    ... ..\n",
              "1995  3138  0\n",
              "1996   191  0\n",
              "1997  3294  0\n",
              "1998  3073  0\n",
              "1999   361  0\n",
              "\n",
              "[2000 rows x 2 columns]"
            ]
          },
          "metadata": {
            "tags": []
          },
          "execution_count": 135
        }
      ]
    },
    {
      "cell_type": "code",
      "metadata": {
        "colab": {
          "base_uri": "https://localhost:8080/"
        },
        "id": "T9UpnbpJ36aN",
        "outputId": "1c6f1d59-b6c3-4b2a-e68e-82985f3bfd63"
      },
      "source": [
        "train.shape"
      ],
      "execution_count": null,
      "outputs": [
        {
          "output_type": "execute_result",
          "data": {
            "text/plain": [
              "(3000, 10)"
            ]
          },
          "metadata": {
            "tags": []
          },
          "execution_count": 136
        }
      ]
    },
    {
      "cell_type": "code",
      "metadata": {
        "colab": {
          "base_uri": "https://localhost:8080/"
        },
        "id": "uqTEvQFf373x",
        "outputId": "50122c3a-7d20-4186-f98c-f70614b5314b"
      },
      "source": [
        "test.shape"
      ],
      "execution_count": null,
      "outputs": [
        {
          "output_type": "execute_result",
          "data": {
            "text/plain": [
              "(2000, 9)"
            ]
          },
          "metadata": {
            "tags": []
          },
          "execution_count": 137
        }
      ]
    },
    {
      "cell_type": "code",
      "metadata": {
        "colab": {
          "base_uri": "https://localhost:8080/"
        },
        "id": "xrJUUstybiKB",
        "outputId": "dbfffb09-b783-416d-d09f-82079ebbce24"
      },
      "source": [
        "sub.shape"
      ],
      "execution_count": null,
      "outputs": [
        {
          "output_type": "execute_result",
          "data": {
            "text/plain": [
              "(2000, 2)"
            ]
          },
          "metadata": {
            "tags": []
          },
          "execution_count": 138
        }
      ]
    },
    {
      "cell_type": "code",
      "metadata": {
        "colab": {
          "base_uri": "https://localhost:8080/",
          "height": 308
        },
        "id": "4F8F8nw038Tb",
        "outputId": "bcb39585-00f1-43e1-d426-5efa35254ad8"
      },
      "source": [
        "train.describe()"
      ],
      "execution_count": null,
      "outputs": [
        {
          "output_type": "execute_result",
          "data": {
            "text/html": [
              "<div>\n",
              "<style scoped>\n",
              "    .dataframe tbody tr th:only-of-type {\n",
              "        vertical-align: middle;\n",
              "    }\n",
              "\n",
              "    .dataframe tbody tr th {\n",
              "        vertical-align: top;\n",
              "    }\n",
              "\n",
              "    .dataframe thead th {\n",
              "        text-align: right;\n",
              "    }\n",
              "</style>\n",
              "<table border=\"1\" class=\"dataframe\">\n",
              "  <thead>\n",
              "    <tr style=\"text-align: right;\">\n",
              "      <th></th>\n",
              "      <th>index</th>\n",
              "      <th>Pregnancies</th>\n",
              "      <th>Glucose</th>\n",
              "      <th>BloodPressure</th>\n",
              "      <th>SkinThickness</th>\n",
              "      <th>Insulin</th>\n",
              "      <th>BMI</th>\n",
              "      <th>DiabetesPedigreeFunction</th>\n",
              "      <th>Age</th>\n",
              "      <th>Outcome</th>\n",
              "    </tr>\n",
              "  </thead>\n",
              "  <tbody>\n",
              "    <tr>\n",
              "      <th>count</th>\n",
              "      <td>3000.000000</td>\n",
              "      <td>3000.000000</td>\n",
              "      <td>3000.000000</td>\n",
              "      <td>3000.000000</td>\n",
              "      <td>3000.000000</td>\n",
              "      <td>3000.000000</td>\n",
              "      <td>3000.000000</td>\n",
              "      <td>3000.000000</td>\n",
              "      <td>3000.000000</td>\n",
              "      <td>3000.000000</td>\n",
              "    </tr>\n",
              "    <tr>\n",
              "      <th>mean</th>\n",
              "      <td>2492.964667</td>\n",
              "      <td>3.557000</td>\n",
              "      <td>113.733667</td>\n",
              "      <td>68.743667</td>\n",
              "      <td>11.164000</td>\n",
              "      <td>11.663333</td>\n",
              "      <td>35.262073</td>\n",
              "      <td>0.400476</td>\n",
              "      <td>28.932000</td>\n",
              "      <td>0.239000</td>\n",
              "    </tr>\n",
              "    <tr>\n",
              "      <th>std</th>\n",
              "      <td>1447.218078</td>\n",
              "      <td>3.032131</td>\n",
              "      <td>20.885612</td>\n",
              "      <td>16.332755</td>\n",
              "      <td>14.351159</td>\n",
              "      <td>45.064090</td>\n",
              "      <td>7.568025</td>\n",
              "      <td>0.274666</td>\n",
              "      <td>8.469078</td>\n",
              "      <td>0.426544</td>\n",
              "    </tr>\n",
              "    <tr>\n",
              "      <th>min</th>\n",
              "      <td>0.000000</td>\n",
              "      <td>0.000000</td>\n",
              "      <td>57.000000</td>\n",
              "      <td>0.000000</td>\n",
              "      <td>0.000000</td>\n",
              "      <td>0.000000</td>\n",
              "      <td>0.000775</td>\n",
              "      <td>0.145844</td>\n",
              "      <td>21.000000</td>\n",
              "      <td>0.000000</td>\n",
              "    </tr>\n",
              "    <tr>\n",
              "      <th>25%</th>\n",
              "      <td>1218.750000</td>\n",
              "      <td>1.000000</td>\n",
              "      <td>100.000000</td>\n",
              "      <td>64.000000</td>\n",
              "      <td>0.000000</td>\n",
              "      <td>0.000000</td>\n",
              "      <td>32.301920</td>\n",
              "      <td>0.230987</td>\n",
              "      <td>22.000000</td>\n",
              "      <td>0.000000</td>\n",
              "    </tr>\n",
              "    <tr>\n",
              "      <th>50%</th>\n",
              "      <td>2465.500000</td>\n",
              "      <td>3.000000</td>\n",
              "      <td>111.000000</td>\n",
              "      <td>70.000000</td>\n",
              "      <td>0.000000</td>\n",
              "      <td>0.000000</td>\n",
              "      <td>33.835873</td>\n",
              "      <td>0.268674</td>\n",
              "      <td>26.000000</td>\n",
              "      <td>0.000000</td>\n",
              "    </tr>\n",
              "    <tr>\n",
              "      <th>75%</th>\n",
              "      <td>3750.250000</td>\n",
              "      <td>6.000000</td>\n",
              "      <td>125.000000</td>\n",
              "      <td>78.000000</td>\n",
              "      <td>24.000000</td>\n",
              "      <td>0.000000</td>\n",
              "      <td>39.578256</td>\n",
              "      <td>0.506778</td>\n",
              "      <td>33.000000</td>\n",
              "      <td>0.000000</td>\n",
              "    </tr>\n",
              "    <tr>\n",
              "      <th>max</th>\n",
              "      <td>4999.000000</td>\n",
              "      <td>13.000000</td>\n",
              "      <td>196.000000</td>\n",
              "      <td>110.000000</td>\n",
              "      <td>49.000000</td>\n",
              "      <td>579.000000</td>\n",
              "      <td>53.400629</td>\n",
              "      <td>2.302072</td>\n",
              "      <td>67.000000</td>\n",
              "      <td>1.000000</td>\n",
              "    </tr>\n",
              "  </tbody>\n",
              "</table>\n",
              "</div>"
            ],
            "text/plain": [
              "             index  Pregnancies  ...          Age      Outcome\n",
              "count  3000.000000  3000.000000  ...  3000.000000  3000.000000\n",
              "mean   2492.964667     3.557000  ...    28.932000     0.239000\n",
              "std    1447.218078     3.032131  ...     8.469078     0.426544\n",
              "min       0.000000     0.000000  ...    21.000000     0.000000\n",
              "25%    1218.750000     1.000000  ...    22.000000     0.000000\n",
              "50%    2465.500000     3.000000  ...    26.000000     0.000000\n",
              "75%    3750.250000     6.000000  ...    33.000000     0.000000\n",
              "max    4999.000000    13.000000  ...    67.000000     1.000000\n",
              "\n",
              "[8 rows x 10 columns]"
            ]
          },
          "metadata": {
            "tags": []
          },
          "execution_count": 139
        }
      ]
    },
    {
      "cell_type": "code",
      "metadata": {
        "id": "QM3MSZ_q6mqb"
      },
      "source": [
        "train.drop('index', axis=1, inplace=True)\r\n",
        "test.drop('index', axis=1, inplace=True)"
      ],
      "execution_count": null,
      "outputs": []
    },
    {
      "cell_type": "code",
      "metadata": {
        "colab": {
          "base_uri": "https://localhost:8080/",
          "height": 198
        },
        "id": "GteQ2klu6n8v",
        "outputId": "dd9068b5-27c2-4ac9-d270-13dd5b9a2952"
      },
      "source": [
        "train.head()"
      ],
      "execution_count": null,
      "outputs": [
        {
          "output_type": "execute_result",
          "data": {
            "text/html": [
              "<div>\n",
              "<style scoped>\n",
              "    .dataframe tbody tr th:only-of-type {\n",
              "        vertical-align: middle;\n",
              "    }\n",
              "\n",
              "    .dataframe tbody tr th {\n",
              "        vertical-align: top;\n",
              "    }\n",
              "\n",
              "    .dataframe thead th {\n",
              "        text-align: right;\n",
              "    }\n",
              "</style>\n",
              "<table border=\"1\" class=\"dataframe\">\n",
              "  <thead>\n",
              "    <tr style=\"text-align: right;\">\n",
              "      <th></th>\n",
              "      <th>Pregnancies</th>\n",
              "      <th>Glucose</th>\n",
              "      <th>BloodPressure</th>\n",
              "      <th>SkinThickness</th>\n",
              "      <th>Insulin</th>\n",
              "      <th>BMI</th>\n",
              "      <th>DiabetesPedigreeFunction</th>\n",
              "      <th>Age</th>\n",
              "      <th>Outcome</th>\n",
              "    </tr>\n",
              "  </thead>\n",
              "  <tbody>\n",
              "    <tr>\n",
              "      <th>0</th>\n",
              "      <td>9</td>\n",
              "      <td>125</td>\n",
              "      <td>74</td>\n",
              "      <td>0</td>\n",
              "      <td>0</td>\n",
              "      <td>28.536910</td>\n",
              "      <td>0.444902</td>\n",
              "      <td>45</td>\n",
              "      <td>1</td>\n",
              "    </tr>\n",
              "    <tr>\n",
              "      <th>1</th>\n",
              "      <td>4</td>\n",
              "      <td>109</td>\n",
              "      <td>80</td>\n",
              "      <td>0</td>\n",
              "      <td>0</td>\n",
              "      <td>28.047673</td>\n",
              "      <td>0.238243</td>\n",
              "      <td>22</td>\n",
              "      <td>0</td>\n",
              "    </tr>\n",
              "    <tr>\n",
              "      <th>2</th>\n",
              "      <td>4</td>\n",
              "      <td>88</td>\n",
              "      <td>78</td>\n",
              "      <td>39</td>\n",
              "      <td>0</td>\n",
              "      <td>52.371341</td>\n",
              "      <td>0.279471</td>\n",
              "      <td>26</td>\n",
              "      <td>0</td>\n",
              "    </tr>\n",
              "    <tr>\n",
              "      <th>3</th>\n",
              "      <td>9</td>\n",
              "      <td>125</td>\n",
              "      <td>74</td>\n",
              "      <td>0</td>\n",
              "      <td>0</td>\n",
              "      <td>40.062688</td>\n",
              "      <td>0.203922</td>\n",
              "      <td>45</td>\n",
              "      <td>0</td>\n",
              "    </tr>\n",
              "    <tr>\n",
              "      <th>4</th>\n",
              "      <td>5</td>\n",
              "      <td>107</td>\n",
              "      <td>78</td>\n",
              "      <td>44</td>\n",
              "      <td>284</td>\n",
              "      <td>52.935068</td>\n",
              "      <td>0.284959</td>\n",
              "      <td>45</td>\n",
              "      <td>1</td>\n",
              "    </tr>\n",
              "  </tbody>\n",
              "</table>\n",
              "</div>"
            ],
            "text/plain": [
              "   Pregnancies  Glucose  BloodPressure  ...  DiabetesPedigreeFunction  Age  Outcome\n",
              "0            9      125             74  ...                  0.444902   45        1\n",
              "1            4      109             80  ...                  0.238243   22        0\n",
              "2            4       88             78  ...                  0.279471   26        0\n",
              "3            9      125             74  ...                  0.203922   45        0\n",
              "4            5      107             78  ...                  0.284959   45        1\n",
              "\n",
              "[5 rows x 9 columns]"
            ]
          },
          "metadata": {
            "tags": []
          },
          "execution_count": 141
        }
      ]
    },
    {
      "cell_type": "code",
      "metadata": {
        "id": "Up4xZOsb8O9F"
      },
      "source": [
        "y_train = train['Outcome'].reset_index(drop=True)\r\n",
        "train_features = train.drop(['Outcome'], axis=1)\r\n",
        "test_features = test"
      ],
      "execution_count": null,
      "outputs": []
    },
    {
      "cell_type": "code",
      "metadata": {
        "colab": {
          "base_uri": "https://localhost:8080/",
          "height": 1000
        },
        "id": "8H-yIBcMtNTj",
        "outputId": "970fa6b3-e4c9-44e0-fd03-2b02b0283e63"
      },
      "source": [
        "from pylab import rcParams\r\n",
        "\r\n",
        "rcParams['figure.figsize'] = 15, 15\r\n",
        "train_features.hist(bins=20)\r\n",
        "plt.tight_layout()"
      ],
      "execution_count": null,
      "outputs": [
        {
          "output_type": "display_data",
          "data": {
            "image/png": "[encoded data removed]",
            "text/plain": [
              "<Figure size 1080x1080 with 9 Axes>"
            ]
          },
          "metadata": {
            "tags": []
          }
        }
      ]
    },
    {
      "cell_type": "code",
      "metadata": {
        "colab": {
          "base_uri": "https://localhost:8080/",
          "height": 1000
        },
        "id": "-tlGxwVE76Zq",
        "outputId": "08958ff4-cbf3-4163-eeb3-c1b2a23a7415"
      },
      "source": [
        "rcParams['figure.figsize'] = 15, 15\r\n",
        "test_features.hist(bins=20)\r\n",
        "plt.tight_layout()"
      ],
      "execution_count": null,
      "outputs": [
        {
          "output_type": "display_data",
          "data": {
            "image/png": "[encoded data removed]",
            "text/plain": [
              "<Figure size 1080x1080 with 9 Axes>"
            ]
          },
          "metadata": {
            "tags": []
          }
        }
      ]
    },
    {
      "cell_type": "code",
      "metadata": {
        "id": "dAmIt8oZ5Dzi"
      },
      "source": [
        "#p01 = train_features.quantile(0.01)\r\n",
        "#p99 = train_features.quantile(0.99)\r\n",
        "\r\n",
        "#print(p01)\r\n",
        "#print(p99)"
      ],
      "execution_count": null,
      "outputs": []
    },
    {
      "cell_type": "code",
      "metadata": {
        "colab": {
          "base_uri": "https://localhost:8080/",
          "height": 1000
        },
        "id": "xi3pALYs9ozj",
        "outputId": "e75cdbf3-96ee-4b53-c86e-cfc9c2c6fc70"
      },
      "source": [
        "# Display numerical correlations (pearson) between features on heatmap.\r\n",
        "\r\n",
        "sns.set(font_scale=1.1)\r\n",
        "correlation_train = train.corr()\r\n",
        "mask = np.triu(correlation_train.corr())\r\n",
        "plt.figure(figsize=(20, 20))\r\n",
        "sns.heatmap(correlation_train,\r\n",
        "            annot=True,\r\n",
        "            fmt='.1f',\r\n",
        "            cmap='coolwarm',\r\n",
        "            square=True,\r\n",
        "            mask=mask,\r\n",
        "            linewidths=1,\r\n",
        "            cbar=False)\r\n",
        "\r\n",
        "plt.show()"
      ],
      "execution_count": null,
      "outputs": [
        {
          "output_type": "display_data",
          "data": {
            "image/png": "[encoded data removed]",
            "text/plain": [
              "<Figure size 1440x1440 with 1 Axes>"
            ]
          },
          "metadata": {
            "tags": []
          }
        }
      ]
    },
    {
      "cell_type": "code",
      "metadata": {
        "colab": {
          "base_uri": "https://localhost:8080/"
        },
        "id": "_76xlNEc_NFD",
        "outputId": "08c1c37e-a235-49c7-88a2-c2b156233f96"
      },
      "source": [
        "features = pd.concat([train_features, test_features]).reset_index(drop=True)\r\n",
        "print(features.shape)"
      ],
      "execution_count": null,
      "outputs": [
        {
          "output_type": "stream",
          "text": [
            "(5000, 8)\n"
          ],
          "name": "stdout"
        }
      ]
    },
    {
      "cell_type": "code",
      "metadata": {
        "colab": {
          "base_uri": "https://localhost:8080/"
        },
        "id": "a3Co6Y8l_yoO",
        "outputId": "d2879353-0e42-44b5-adf5-9b4f59b3c504"
      },
      "source": [
        "features.isnull().sum()"
      ],
      "execution_count": null,
      "outputs": [
        {
          "output_type": "execute_result",
          "data": {
            "text/plain": [
              "Pregnancies                 0\n",
              "Glucose                     0\n",
              "BloodPressure               0\n",
              "SkinThickness               0\n",
              "Insulin                     0\n",
              "BMI                         0\n",
              "DiabetesPedigreeFunction    0\n",
              "Age                         0\n",
              "dtype: int64"
            ]
          },
          "metadata": {
            "tags": []
          },
          "execution_count": 148
        }
      ]
    },
    {
      "cell_type": "code",
      "metadata": {
        "colab": {
          "base_uri": "https://localhost:8080/"
        },
        "id": "lOfm0-AFRW7Q",
        "outputId": "c3c64dd5-86d6-4767-96f2-5fe74f16620a"
      },
      "source": [
        "features.isna().sum()"
      ],
      "execution_count": null,
      "outputs": [
        {
          "output_type": "execute_result",
          "data": {
            "text/plain": [
              "Pregnancies                 0\n",
              "Glucose                     0\n",
              "BloodPressure               0\n",
              "SkinThickness               0\n",
              "Insulin                     0\n",
              "BMI                         0\n",
              "DiabetesPedigreeFunction    0\n",
              "Age                         0\n",
              "dtype: int64"
            ]
          },
          "metadata": {
            "tags": []
          },
          "execution_count": 149
        }
      ]
    },
    {
      "cell_type": "code",
      "metadata": {
        "colab": {
          "base_uri": "https://localhost:8080/",
          "height": 198
        },
        "id": "cvoCOMFHRdzz",
        "outputId": "0ab7e3a0-bfc0-4689-a06c-e573b200fe15"
      },
      "source": [
        "features.sample(5)"
      ],
      "execution_count": null,
      "outputs": [
        {
          "output_type": "execute_result",
          "data": {
            "text/html": [
              "<div>\n",
              "<style scoped>\n",
              "    .dataframe tbody tr th:only-of-type {\n",
              "        vertical-align: middle;\n",
              "    }\n",
              "\n",
              "    .dataframe tbody tr th {\n",
              "        vertical-align: top;\n",
              "    }\n",
              "\n",
              "    .dataframe thead th {\n",
              "        text-align: right;\n",
              "    }\n",
              "</style>\n",
              "<table border=\"1\" class=\"dataframe\">\n",
              "  <thead>\n",
              "    <tr style=\"text-align: right;\">\n",
              "      <th></th>\n",
              "      <th>Pregnancies</th>\n",
              "      <th>Glucose</th>\n",
              "      <th>BloodPressure</th>\n",
              "      <th>SkinThickness</th>\n",
              "      <th>Insulin</th>\n",
              "      <th>BMI</th>\n",
              "      <th>DiabetesPedigreeFunction</th>\n",
              "      <th>Age</th>\n",
              "    </tr>\n",
              "  </thead>\n",
              "  <tbody>\n",
              "    <tr>\n",
              "      <th>1921</th>\n",
              "      <td>1</td>\n",
              "      <td>135</td>\n",
              "      <td>46</td>\n",
              "      <td>19</td>\n",
              "      <td>0</td>\n",
              "      <td>33.518513</td>\n",
              "      <td>0.203752</td>\n",
              "      <td>22</td>\n",
              "    </tr>\n",
              "    <tr>\n",
              "      <th>3733</th>\n",
              "      <td>3</td>\n",
              "      <td>151</td>\n",
              "      <td>76</td>\n",
              "      <td>19</td>\n",
              "      <td>180</td>\n",
              "      <td>39.610066</td>\n",
              "      <td>0.219305</td>\n",
              "      <td>28</td>\n",
              "    </tr>\n",
              "    <tr>\n",
              "      <th>1486</th>\n",
              "      <td>9</td>\n",
              "      <td>125</td>\n",
              "      <td>74</td>\n",
              "      <td>0</td>\n",
              "      <td>0</td>\n",
              "      <td>33.254436</td>\n",
              "      <td>0.237442</td>\n",
              "      <td>38</td>\n",
              "    </tr>\n",
              "    <tr>\n",
              "      <th>257</th>\n",
              "      <td>9</td>\n",
              "      <td>125</td>\n",
              "      <td>70</td>\n",
              "      <td>0</td>\n",
              "      <td>0</td>\n",
              "      <td>27.723496</td>\n",
              "      <td>0.198672</td>\n",
              "      <td>45</td>\n",
              "    </tr>\n",
              "    <tr>\n",
              "      <th>4701</th>\n",
              "      <td>5</td>\n",
              "      <td>126</td>\n",
              "      <td>78</td>\n",
              "      <td>0</td>\n",
              "      <td>0</td>\n",
              "      <td>33.109448</td>\n",
              "      <td>0.235401</td>\n",
              "      <td>26</td>\n",
              "    </tr>\n",
              "  </tbody>\n",
              "</table>\n",
              "</div>"
            ],
            "text/plain": [
              "      Pregnancies  Glucose  ...  DiabetesPedigreeFunction  Age\n",
              "1921            1      135  ...                  0.203752   22\n",
              "3733            3      151  ...                  0.219305   28\n",
              "1486            9      125  ...                  0.237442   38\n",
              "257             9      125  ...                  0.198672   45\n",
              "4701            5      126  ...                  0.235401   26\n",
              "\n",
              "[5 rows x 8 columns]"
            ]
          },
          "metadata": {
            "tags": []
          },
          "execution_count": 150
        }
      ]
    },
    {
      "cell_type": "code",
      "metadata": {
        "colab": {
          "base_uri": "https://localhost:8080/",
          "height": 288
        },
        "id": "AcbS8kGeRsP9",
        "outputId": "d87d4728-f4e1-48a3-b7b7-bb85423357d8"
      },
      "source": [
        "features.describe()"
      ],
      "execution_count": null,
      "outputs": [
        {
          "output_type": "execute_result",
          "data": {
            "text/html": [
              "<div>\n",
              "<style scoped>\n",
              "    .dataframe tbody tr th:only-of-type {\n",
              "        vertical-align: middle;\n",
              "    }\n",
              "\n",
              "    .dataframe tbody tr th {\n",
              "        vertical-align: top;\n",
              "    }\n",
              "\n",
              "    .dataframe thead th {\n",
              "        text-align: right;\n",
              "    }\n",
              "</style>\n",
              "<table border=\"1\" class=\"dataframe\">\n",
              "  <thead>\n",
              "    <tr style=\"text-align: right;\">\n",
              "      <th></th>\n",
              "      <th>Pregnancies</th>\n",
              "      <th>Glucose</th>\n",
              "      <th>BloodPressure</th>\n",
              "      <th>SkinThickness</th>\n",
              "      <th>Insulin</th>\n",
              "      <th>BMI</th>\n",
              "      <th>DiabetesPedigreeFunction</th>\n",
              "      <th>Age</th>\n",
              "    </tr>\n",
              "  </thead>\n",
              "  <tbody>\n",
              "    <tr>\n",
              "      <th>count</th>\n",
              "      <td>5000.000000</td>\n",
              "      <td>5000.000000</td>\n",
              "      <td>5000.000000</td>\n",
              "      <td>5000.000000</td>\n",
              "      <td>5000.000000</td>\n",
              "      <td>5000.000000</td>\n",
              "      <td>5000.000000</td>\n",
              "      <td>5000.000000</td>\n",
              "    </tr>\n",
              "    <tr>\n",
              "      <th>mean</th>\n",
              "      <td>3.567800</td>\n",
              "      <td>113.957600</td>\n",
              "      <td>68.752800</td>\n",
              "      <td>11.180000</td>\n",
              "      <td>11.741600</td>\n",
              "      <td>35.347125</td>\n",
              "      <td>0.400987</td>\n",
              "      <td>28.989400</td>\n",
              "    </tr>\n",
              "    <tr>\n",
              "      <th>std</th>\n",
              "      <td>3.040535</td>\n",
              "      <td>21.333505</td>\n",
              "      <td>16.268147</td>\n",
              "      <td>14.232446</td>\n",
              "      <td>47.022061</td>\n",
              "      <td>7.496245</td>\n",
              "      <td>0.271619</td>\n",
              "      <td>8.509722</td>\n",
              "    </tr>\n",
              "    <tr>\n",
              "      <th>min</th>\n",
              "      <td>0.000000</td>\n",
              "      <td>57.000000</td>\n",
              "      <td>0.000000</td>\n",
              "      <td>0.000000</td>\n",
              "      <td>0.000000</td>\n",
              "      <td>0.000775</td>\n",
              "      <td>0.137377</td>\n",
              "      <td>21.000000</td>\n",
              "    </tr>\n",
              "    <tr>\n",
              "      <th>25%</th>\n",
              "      <td>1.000000</td>\n",
              "      <td>100.000000</td>\n",
              "      <td>64.000000</td>\n",
              "      <td>0.000000</td>\n",
              "      <td>0.000000</td>\n",
              "      <td>32.453978</td>\n",
              "      <td>0.232290</td>\n",
              "      <td>22.000000</td>\n",
              "    </tr>\n",
              "    <tr>\n",
              "      <th>50%</th>\n",
              "      <td>3.000000</td>\n",
              "      <td>111.000000</td>\n",
              "      <td>70.000000</td>\n",
              "      <td>0.000000</td>\n",
              "      <td>0.000000</td>\n",
              "      <td>33.828671</td>\n",
              "      <td>0.269691</td>\n",
              "      <td>26.000000</td>\n",
              "    </tr>\n",
              "    <tr>\n",
              "      <th>75%</th>\n",
              "      <td>6.000000</td>\n",
              "      <td>125.000000</td>\n",
              "      <td>78.000000</td>\n",
              "      <td>24.000000</td>\n",
              "      <td>0.000000</td>\n",
              "      <td>39.627290</td>\n",
              "      <td>0.506604</td>\n",
              "      <td>33.000000</td>\n",
              "    </tr>\n",
              "    <tr>\n",
              "      <th>max</th>\n",
              "      <td>13.000000</td>\n",
              "      <td>199.000000</td>\n",
              "      <td>110.000000</td>\n",
              "      <td>52.000000</td>\n",
              "      <td>744.000000</td>\n",
              "      <td>53.400629</td>\n",
              "      <td>2.302072</td>\n",
              "      <td>67.000000</td>\n",
              "    </tr>\n",
              "  </tbody>\n",
              "</table>\n",
              "</div>"
            ],
            "text/plain": [
              "       Pregnancies      Glucose  ...  DiabetesPedigreeFunction          Age\n",
              "count  5000.000000  5000.000000  ...               5000.000000  5000.000000\n",
              "mean      3.567800   113.957600  ...                  0.400987    28.989400\n",
              "std       3.040535    21.333505  ...                  0.271619     8.509722\n",
              "min       0.000000    57.000000  ...                  0.137377    21.000000\n",
              "25%       1.000000   100.000000  ...                  0.232290    22.000000\n",
              "50%       3.000000   111.000000  ...                  0.269691    26.000000\n",
              "75%       6.000000   125.000000  ...                  0.506604    33.000000\n",
              "max      13.000000   199.000000  ...                  2.302072    67.000000\n",
              "\n",
              "[8 rows x 8 columns]"
            ]
          },
          "metadata": {
            "tags": []
          },
          "execution_count": 151
        }
      ]
    },
    {
      "cell_type": "code",
      "metadata": {
        "id": "ypQOSXkUR-py"
      },
      "source": [
        "# Separating train and test set.\r\n",
        "\r\n",
        "X_train = features.iloc[:len(y_train), :]\r\n",
        "X_test = features.iloc[len(train):, :]"
      ],
      "execution_count": null,
      "outputs": []
    },
    {
      "cell_type": "code",
      "metadata": {
        "id": "Z7qiroZ1UDLi",
        "colab": {
          "base_uri": "https://localhost:8080/"
        },
        "outputId": "a5188540-b2be-43ef-ae24-fb9e23847e6c"
      },
      "source": [
        "#cross validation\r\n",
        "y_preds = []\r\n",
        "models = []\r\n",
        "oof_train = np.zeros((len(X_train),))\r\n",
        "cv = StratifiedKFold(n_splits=5, shuffle=True, random_state=SEED)\r\n",
        "\r\n",
        "for fold_id, (train_index, val_index) in enumerate(cv.split(X_train, y_train)):\r\n",
        "    X_tr = X_train.loc[train_index, :]\r\n",
        "    X_valid = X_train.loc[val_index, :]\r\n",
        "    y_tr = y_train[train_index]\r\n",
        "    y_valid = y_train[val_index]\r\n",
        "\r\n",
        "    lgb_train = lgb.Dataset(X_train, y_train)\r\n",
        "    lgb_eval = lgb.Dataset(X_valid, y_valid, reference=lgb_train, )\r\n",
        "\r\n",
        "    params = {\r\n",
        "        'objective': 'binary'\r\n",
        "    }\r\n",
        "\r\n",
        "    model = lgb.train(\r\n",
        "        params, lgb_train,\r\n",
        "        valid_sets=[lgb_train, lgb_eval],\r\n",
        "        verbose_eval=10,\r\n",
        "        num_boost_round=1000,\r\n",
        "        early_stopping_rounds=10\r\n",
        "    )\r\n",
        "\r\n",
        "    oof_train[valid_index] = model.predict(X_val, num_iteration=model.best_iteration)\r\n",
        "    y_pred = model.predict(X_test, num_iteration=model.best_iteration)\r\n",
        "\r\n",
        "    y_preds.append(y_pred)\r\n",
        "    models.append(model)"
      ],
      "execution_count": null,
      "outputs": [
        {
          "output_type": "stream",
          "text": [
            "Training until validation scores don't improve for 10 rounds.\n",
            "[10]\ttraining's binary_logloss: 0.416068\tvalid_1's binary_logloss: 0.410129\n",
            "[20]\ttraining's binary_logloss: 0.357641\tvalid_1's binary_logloss: 0.351842\n",
            "[30]\ttraining's binary_logloss: 0.316332\tvalid_1's binary_logloss: 0.309169\n",
            "[40]\ttraining's binary_logloss: 0.287325\tvalid_1's binary_logloss: 0.279638\n",
            "[50]\ttraining's binary_logloss: 0.263562\tvalid_1's binary_logloss: 0.255422\n",
            "[60]\ttraining's binary_logloss: 0.242486\tvalid_1's binary_logloss: 0.233841\n",
            "[70]\ttraining's binary_logloss: 0.224709\tvalid_1's binary_logloss: 0.213868\n",
            "[80]\ttraining's binary_logloss: 0.207444\tvalid_1's binary_logloss: 0.19748\n",
            "[90]\ttraining's binary_logloss: 0.194221\tvalid_1's binary_logloss: 0.184844\n",
            "[100]\ttraining's binary_logloss: 0.182026\tvalid_1's binary_logloss: 0.172013\n",
            "[110]\ttraining's binary_logloss: 0.169677\tvalid_1's binary_logloss: 0.158845\n",
            "[120]\ttraining's binary_logloss: 0.158913\tvalid_1's binary_logloss: 0.148613\n",
            "[130]\ttraining's binary_logloss: 0.149037\tvalid_1's binary_logloss: 0.138549\n",
            "[140]\ttraining's binary_logloss: 0.140162\tvalid_1's binary_logloss: 0.12935\n",
            "[150]\ttraining's binary_logloss: 0.131644\tvalid_1's binary_logloss: 0.120287\n",
            "[160]\ttraining's binary_logloss: 0.124231\tvalid_1's binary_logloss: 0.113285\n",
            "[170]\ttraining's binary_logloss: 0.116113\tvalid_1's binary_logloss: 0.105917\n",
            "[180]\ttraining's binary_logloss: 0.10942\tvalid_1's binary_logloss: 0.0998422\n",
            "[190]\ttraining's binary_logloss: 0.10243\tvalid_1's binary_logloss: 0.0931755\n",
            "[200]\ttraining's binary_logloss: 0.0966045\tvalid_1's binary_logloss: 0.0882773\n",
            "[210]\ttraining's binary_logloss: 0.0911192\tvalid_1's binary_logloss: 0.0830532\n",
            "[220]\ttraining's binary_logloss: 0.0852751\tvalid_1's binary_logloss: 0.0780078\n",
            "[230]\ttraining's binary_logloss: 0.0800574\tvalid_1's binary_logloss: 0.0733128\n",
            "[240]\ttraining's binary_logloss: 0.075486\tvalid_1's binary_logloss: 0.0690014\n",
            "[250]\ttraining's binary_logloss: 0.0716589\tvalid_1's binary_logloss: 0.0654564\n",
            "[260]\ttraining's binary_logloss: 0.0671854\tvalid_1's binary_logloss: 0.0616287\n",
            "[270]\ttraining's binary_logloss: 0.0634208\tvalid_1's binary_logloss: 0.0582271\n",
            "[280]\ttraining's binary_logloss: 0.0601676\tvalid_1's binary_logloss: 0.0553464\n",
            "[290]\ttraining's binary_logloss: 0.0570226\tvalid_1's binary_logloss: 0.0525861\n",
            "[300]\ttraining's binary_logloss: 0.0540266\tvalid_1's binary_logloss: 0.0495914\n",
            "[310]\ttraining's binary_logloss: 0.0509287\tvalid_1's binary_logloss: 0.04698\n",
            "[320]\ttraining's binary_logloss: 0.0480904\tvalid_1's binary_logloss: 0.0441061\n",
            "[330]\ttraining's binary_logloss: 0.0455625\tvalid_1's binary_logloss: 0.0418042\n",
            "[340]\ttraining's binary_logloss: 0.0430531\tvalid_1's binary_logloss: 0.0396027\n",
            "[350]\ttraining's binary_logloss: 0.0408278\tvalid_1's binary_logloss: 0.0373892\n",
            "[360]\ttraining's binary_logloss: 0.0387905\tvalid_1's binary_logloss: 0.0355413\n",
            "[370]\ttraining's binary_logloss: 0.0367935\tvalid_1's binary_logloss: 0.0337085\n",
            "[380]\ttraining's binary_logloss: 0.0347933\tvalid_1's binary_logloss: 0.0318774\n",
            "[390]\ttraining's binary_logloss: 0.032801\tvalid_1's binary_logloss: 0.0299345\n",
            "[400]\ttraining's binary_logloss: 0.0309171\tvalid_1's binary_logloss: 0.0281523\n",
            "[410]\ttraining's binary_logloss: 0.0291475\tvalid_1's binary_logloss: 0.0265951\n",
            "[420]\ttraining's binary_logloss: 0.0275111\tvalid_1's binary_logloss: 0.0251126\n",
            "[430]\ttraining's binary_logloss: 0.0259086\tvalid_1's binary_logloss: 0.0237456\n",
            "[440]\ttraining's binary_logloss: 0.0245857\tvalid_1's binary_logloss: 0.0225919\n",
            "[450]\ttraining's binary_logloss: 0.0233219\tvalid_1's binary_logloss: 0.0212371\n",
            "[460]\ttraining's binary_logloss: 0.0221411\tvalid_1's binary_logloss: 0.0200867\n",
            "[470]\ttraining's binary_logloss: 0.0209908\tvalid_1's binary_logloss: 0.0190081\n",
            "[480]\ttraining's binary_logloss: 0.0198944\tvalid_1's binary_logloss: 0.0181065\n",
            "[490]\ttraining's binary_logloss: 0.0188328\tvalid_1's binary_logloss: 0.0171706\n",
            "[500]\ttraining's binary_logloss: 0.0177781\tvalid_1's binary_logloss: 0.016198\n",
            "[510]\ttraining's binary_logloss: 0.016936\tvalid_1's binary_logloss: 0.0154174\n",
            "[520]\ttraining's binary_logloss: 0.0160906\tvalid_1's binary_logloss: 0.0146207\n",
            "[530]\ttraining's binary_logloss: 0.015178\tvalid_1's binary_logloss: 0.0138869\n",
            "[540]\ttraining's binary_logloss: 0.014387\tvalid_1's binary_logloss: 0.013154\n",
            "[550]\ttraining's binary_logloss: 0.0136156\tvalid_1's binary_logloss: 0.0124444\n",
            "[560]\ttraining's binary_logloss: 0.0129229\tvalid_1's binary_logloss: 0.0117484\n",
            "[570]\ttraining's binary_logloss: 0.0122331\tvalid_1's binary_logloss: 0.0111156\n",
            "[580]\ttraining's binary_logloss: 0.011503\tvalid_1's binary_logloss: 0.0104349\n",
            "[590]\ttraining's binary_logloss: 0.0108655\tvalid_1's binary_logloss: 0.00985497\n",
            "[600]\ttraining's binary_logloss: 0.0102068\tvalid_1's binary_logloss: 0.00921765\n",
            "[610]\ttraining's binary_logloss: 0.00962759\tvalid_1's binary_logloss: 0.00871288\n",
            "[620]\ttraining's binary_logloss: 0.00916519\tvalid_1's binary_logloss: 0.00831494\n",
            "[630]\ttraining's binary_logloss: 0.00867096\tvalid_1's binary_logloss: 0.00779284\n",
            "[640]\ttraining's binary_logloss: 0.00823061\tvalid_1's binary_logloss: 0.00742181\n",
            "[650]\ttraining's binary_logloss: 0.00781971\tvalid_1's binary_logloss: 0.00701722\n",
            "[660]\ttraining's binary_logloss: 0.00740028\tvalid_1's binary_logloss: 0.00665933\n",
            "[670]\ttraining's binary_logloss: 0.00697535\tvalid_1's binary_logloss: 0.00628628\n",
            "[680]\ttraining's binary_logloss: 0.00656771\tvalid_1's binary_logloss: 0.0058831\n",
            "[690]\ttraining's binary_logloss: 0.00620351\tvalid_1's binary_logloss: 0.00562161\n",
            "[700]\ttraining's binary_logloss: 0.0058934\tvalid_1's binary_logloss: 0.0053268\n",
            "[710]\ttraining's binary_logloss: 0.00554762\tvalid_1's binary_logloss: 0.00501548\n",
            "[720]\ttraining's binary_logloss: 0.00525913\tvalid_1's binary_logloss: 0.00474166\n",
            "[730]\ttraining's binary_logloss: 0.00497699\tvalid_1's binary_logloss: 0.00446825\n",
            "[740]\ttraining's binary_logloss: 0.00472656\tvalid_1's binary_logloss: 0.00426352\n",
            "[750]\ttraining's binary_logloss: 0.00449562\tvalid_1's binary_logloss: 0.00406169\n",
            "[760]\ttraining's binary_logloss: 0.0042778\tvalid_1's binary_logloss: 0.0038578\n",
            "[770]\ttraining's binary_logloss: 0.00403257\tvalid_1's binary_logloss: 0.00364674\n",
            "[780]\ttraining's binary_logloss: 0.00380142\tvalid_1's binary_logloss: 0.00341101\n",
            "[790]\ttraining's binary_logloss: 0.00358977\tvalid_1's binary_logloss: 0.00321778\n",
            "[800]\ttraining's binary_logloss: 0.00340871\tvalid_1's binary_logloss: 0.00307739\n",
            "[810]\ttraining's binary_logloss: 0.00323049\tvalid_1's binary_logloss: 0.00293044\n",
            "[820]\ttraining's binary_logloss: 0.00306013\tvalid_1's binary_logloss: 0.00277716\n",
            "[830]\ttraining's binary_logloss: 0.00288724\tvalid_1's binary_logloss: 0.00263556\n",
            "[840]\ttraining's binary_logloss: 0.00272011\tvalid_1's binary_logloss: 0.00251684\n",
            "[850]\ttraining's binary_logloss: 0.00257142\tvalid_1's binary_logloss: 0.00237112\n",
            "[860]\ttraining's binary_logloss: 0.00242702\tvalid_1's binary_logloss: 0.00225136\n",
            "[870]\ttraining's binary_logloss: 0.00228989\tvalid_1's binary_logloss: 0.00212636\n",
            "[880]\ttraining's binary_logloss: 0.00217526\tvalid_1's binary_logloss: 0.00200878\n",
            "[890]\ttraining's binary_logloss: 0.00206509\tvalid_1's binary_logloss: 0.00189832\n",
            "[900]\ttraining's binary_logloss: 0.0019458\tvalid_1's binary_logloss: 0.00176568\n",
            "[910]\ttraining's binary_logloss: 0.00184279\tvalid_1's binary_logloss: 0.00168165\n",
            "[920]\ttraining's binary_logloss: 0.00174612\tvalid_1's binary_logloss: 0.00159555\n",
            "[930]\ttraining's binary_logloss: 0.00166127\tvalid_1's binary_logloss: 0.0015173\n",
            "[940]\ttraining's binary_logloss: 0.00157752\tvalid_1's binary_logloss: 0.00143805\n",
            "[950]\ttraining's binary_logloss: 0.00149813\tvalid_1's binary_logloss: 0.00136161\n",
            "[960]\ttraining's binary_logloss: 0.00141701\tvalid_1's binary_logloss: 0.00127737\n",
            "[970]\ttraining's binary_logloss: 0.00133982\tvalid_1's binary_logloss: 0.00121335\n",
            "[980]\ttraining's binary_logloss: 0.0012639\tvalid_1's binary_logloss: 0.00113621\n",
            "[990]\ttraining's binary_logloss: 0.00119757\tvalid_1's binary_logloss: 0.0010843\n",
            "[1000]\ttraining's binary_logloss: 0.00113693\tvalid_1's binary_logloss: 0.00103125\n",
            "Did not meet early stopping. Best iteration is:\n",
            "[1000]\ttraining's binary_logloss: 0.00113693\tvalid_1's binary_logloss: 0.00103125\n",
            "Training until validation scores don't improve for 10 rounds.\n",
            "[10]\ttraining's binary_logloss: 0.416068\tvalid_1's binary_logloss: 0.411177\n",
            "[20]\ttraining's binary_logloss: 0.357641\tvalid_1's binary_logloss: 0.349639\n",
            "[30]\ttraining's binary_logloss: 0.316332\tvalid_1's binary_logloss: 0.307478\n",
            "[40]\ttraining's binary_logloss: 0.287325\tvalid_1's binary_logloss: 0.280209\n",
            "[50]\ttraining's binary_logloss: 0.263562\tvalid_1's binary_logloss: 0.256467\n",
            "[60]\ttraining's binary_logloss: 0.242486\tvalid_1's binary_logloss: 0.235264\n",
            "[70]\ttraining's binary_logloss: 0.224709\tvalid_1's binary_logloss: 0.218235\n",
            "[80]\ttraining's binary_logloss: 0.207444\tvalid_1's binary_logloss: 0.203359\n",
            "[90]\ttraining's binary_logloss: 0.194221\tvalid_1's binary_logloss: 0.192232\n",
            "[100]\ttraining's binary_logloss: 0.182026\tvalid_1's binary_logloss: 0.181388\n",
            "[110]\ttraining's binary_logloss: 0.169677\tvalid_1's binary_logloss: 0.169464\n",
            "[120]\ttraining's binary_logloss: 0.158913\tvalid_1's binary_logloss: 0.158813\n",
            "[130]\ttraining's binary_logloss: 0.149037\tvalid_1's binary_logloss: 0.149711\n",
            "[140]\ttraining's binary_logloss: 0.140162\tvalid_1's binary_logloss: 0.141512\n",
            "[150]\ttraining's binary_logloss: 0.131644\tvalid_1's binary_logloss: 0.132617\n",
            "[160]\ttraining's binary_logloss: 0.124231\tvalid_1's binary_logloss: 0.12563\n",
            "[170]\ttraining's binary_logloss: 0.116113\tvalid_1's binary_logloss: 0.117885\n",
            "[180]\ttraining's binary_logloss: 0.10942\tvalid_1's binary_logloss: 0.110641\n",
            "[190]\ttraining's binary_logloss: 0.10243\tvalid_1's binary_logloss: 0.103629\n",
            "[200]\ttraining's binary_logloss: 0.0966045\tvalid_1's binary_logloss: 0.0975973\n",
            "[210]\ttraining's binary_logloss: 0.0911192\tvalid_1's binary_logloss: 0.0922469\n",
            "[220]\ttraining's binary_logloss: 0.0852751\tvalid_1's binary_logloss: 0.086164\n",
            "[230]\ttraining's binary_logloss: 0.0800574\tvalid_1's binary_logloss: 0.080628\n",
            "[240]\ttraining's binary_logloss: 0.075486\tvalid_1's binary_logloss: 0.07648\n",
            "[250]\ttraining's binary_logloss: 0.0716589\tvalid_1's binary_logloss: 0.0722782\n",
            "[260]\ttraining's binary_logloss: 0.0671854\tvalid_1's binary_logloss: 0.0675772\n",
            "[270]\ttraining's binary_logloss: 0.0634208\tvalid_1's binary_logloss: 0.0640323\n",
            "[280]\ttraining's binary_logloss: 0.0601676\tvalid_1's binary_logloss: 0.0604166\n",
            "[290]\ttraining's binary_logloss: 0.0570226\tvalid_1's binary_logloss: 0.0569805\n",
            "[300]\ttraining's binary_logloss: 0.0540266\tvalid_1's binary_logloss: 0.0542671\n",
            "[310]\ttraining's binary_logloss: 0.0509287\tvalid_1's binary_logloss: 0.0508016\n",
            "[320]\ttraining's binary_logloss: 0.0480904\tvalid_1's binary_logloss: 0.0480254\n",
            "[330]\ttraining's binary_logloss: 0.0455625\tvalid_1's binary_logloss: 0.0453181\n",
            "[340]\ttraining's binary_logloss: 0.0430531\tvalid_1's binary_logloss: 0.0428534\n",
            "[350]\ttraining's binary_logloss: 0.0408278\tvalid_1's binary_logloss: 0.0406099\n",
            "[360]\ttraining's binary_logloss: 0.0387905\tvalid_1's binary_logloss: 0.0385175\n",
            "[370]\ttraining's binary_logloss: 0.0367935\tvalid_1's binary_logloss: 0.0366291\n",
            "[380]\ttraining's binary_logloss: 0.0347933\tvalid_1's binary_logloss: 0.0346873\n",
            "[390]\ttraining's binary_logloss: 0.032801\tvalid_1's binary_logloss: 0.0325783\n",
            "[400]\ttraining's binary_logloss: 0.0309171\tvalid_1's binary_logloss: 0.0307413\n",
            "[410]\ttraining's binary_logloss: 0.0291475\tvalid_1's binary_logloss: 0.0290539\n",
            "[420]\ttraining's binary_logloss: 0.0275111\tvalid_1's binary_logloss: 0.0272931\n",
            "[430]\ttraining's binary_logloss: 0.0259086\tvalid_1's binary_logloss: 0.0255459\n",
            "[440]\ttraining's binary_logloss: 0.0245857\tvalid_1's binary_logloss: 0.0242128\n",
            "[450]\ttraining's binary_logloss: 0.0233219\tvalid_1's binary_logloss: 0.022966\n",
            "[460]\ttraining's binary_logloss: 0.0221411\tvalid_1's binary_logloss: 0.0217495\n",
            "[470]\ttraining's binary_logloss: 0.0209908\tvalid_1's binary_logloss: 0.020569\n",
            "[480]\ttraining's binary_logloss: 0.0198944\tvalid_1's binary_logloss: 0.0194807\n",
            "[490]\ttraining's binary_logloss: 0.0188328\tvalid_1's binary_logloss: 0.018438\n",
            "[500]\ttraining's binary_logloss: 0.0177781\tvalid_1's binary_logloss: 0.0174165\n",
            "[510]\ttraining's binary_logloss: 0.016936\tvalid_1's binary_logloss: 0.0166423\n",
            "[520]\ttraining's binary_logloss: 0.0160906\tvalid_1's binary_logloss: 0.0158897\n",
            "[530]\ttraining's binary_logloss: 0.015178\tvalid_1's binary_logloss: 0.014852\n",
            "[540]\ttraining's binary_logloss: 0.014387\tvalid_1's binary_logloss: 0.0140894\n",
            "[550]\ttraining's binary_logloss: 0.0136156\tvalid_1's binary_logloss: 0.0133665\n",
            "[560]\ttraining's binary_logloss: 0.0129229\tvalid_1's binary_logloss: 0.0127231\n",
            "[570]\ttraining's binary_logloss: 0.0122331\tvalid_1's binary_logloss: 0.0119867\n",
            "[580]\ttraining's binary_logloss: 0.011503\tvalid_1's binary_logloss: 0.0112957\n",
            "[590]\ttraining's binary_logloss: 0.0108655\tvalid_1's binary_logloss: 0.0106204\n",
            "[600]\ttraining's binary_logloss: 0.0102068\tvalid_1's binary_logloss: 0.0100098\n",
            "[610]\ttraining's binary_logloss: 0.00962759\tvalid_1's binary_logloss: 0.00940988\n",
            "[620]\ttraining's binary_logloss: 0.00916519\tvalid_1's binary_logloss: 0.00890356\n",
            "[630]\ttraining's binary_logloss: 0.00867096\tvalid_1's binary_logloss: 0.00836905\n",
            "[640]\ttraining's binary_logloss: 0.00823061\tvalid_1's binary_logloss: 0.00792283\n",
            "[650]\ttraining's binary_logloss: 0.00781971\tvalid_1's binary_logloss: 0.00757747\n",
            "[660]\ttraining's binary_logloss: 0.00740028\tvalid_1's binary_logloss: 0.00719571\n",
            "[670]\ttraining's binary_logloss: 0.00697535\tvalid_1's binary_logloss: 0.00678022\n",
            "[680]\ttraining's binary_logloss: 0.00656771\tvalid_1's binary_logloss: 0.00637964\n",
            "[690]\ttraining's binary_logloss: 0.00620351\tvalid_1's binary_logloss: 0.0060042\n",
            "[700]\ttraining's binary_logloss: 0.0058934\tvalid_1's binary_logloss: 0.0057495\n",
            "[710]\ttraining's binary_logloss: 0.00554762\tvalid_1's binary_logloss: 0.00543634\n",
            "[720]\ttraining's binary_logloss: 0.00525913\tvalid_1's binary_logloss: 0.00516537\n",
            "[730]\ttraining's binary_logloss: 0.00497699\tvalid_1's binary_logloss: 0.00487063\n",
            "[740]\ttraining's binary_logloss: 0.00472656\tvalid_1's binary_logloss: 0.00459573\n",
            "[750]\ttraining's binary_logloss: 0.00449562\tvalid_1's binary_logloss: 0.00438162\n",
            "[760]\ttraining's binary_logloss: 0.0042778\tvalid_1's binary_logloss: 0.00420719\n",
            "[770]\ttraining's binary_logloss: 0.00403257\tvalid_1's binary_logloss: 0.00399\n",
            "[780]\ttraining's binary_logloss: 0.00380142\tvalid_1's binary_logloss: 0.00374956\n",
            "[790]\ttraining's binary_logloss: 0.00358977\tvalid_1's binary_logloss: 0.00351785\n",
            "[800]\ttraining's binary_logloss: 0.00340871\tvalid_1's binary_logloss: 0.00333753\n",
            "[810]\ttraining's binary_logloss: 0.00323049\tvalid_1's binary_logloss: 0.00316711\n",
            "[820]\ttraining's binary_logloss: 0.00306013\tvalid_1's binary_logloss: 0.00298454\n",
            "[830]\ttraining's binary_logloss: 0.00288724\tvalid_1's binary_logloss: 0.00280423\n",
            "[840]\ttraining's binary_logloss: 0.00272011\tvalid_1's binary_logloss: 0.00261968\n",
            "[850]\ttraining's binary_logloss: 0.00257142\tvalid_1's binary_logloss: 0.00249109\n",
            "[860]\ttraining's binary_logloss: 0.00242702\tvalid_1's binary_logloss: 0.00235567\n",
            "[870]\ttraining's binary_logloss: 0.00228989\tvalid_1's binary_logloss: 0.0022186\n",
            "[880]\ttraining's binary_logloss: 0.00217526\tvalid_1's binary_logloss: 0.00210298\n",
            "[890]\ttraining's binary_logloss: 0.00206509\tvalid_1's binary_logloss: 0.00198905\n",
            "[900]\ttraining's binary_logloss: 0.0019458\tvalid_1's binary_logloss: 0.0018847\n",
            "[910]\ttraining's binary_logloss: 0.00184279\tvalid_1's binary_logloss: 0.00179008\n",
            "[920]\ttraining's binary_logloss: 0.00174612\tvalid_1's binary_logloss: 0.00169596\n",
            "[930]\ttraining's binary_logloss: 0.00166127\tvalid_1's binary_logloss: 0.00162436\n",
            "[940]\ttraining's binary_logloss: 0.00157752\tvalid_1's binary_logloss: 0.00154578\n",
            "[950]\ttraining's binary_logloss: 0.00149813\tvalid_1's binary_logloss: 0.00146708\n",
            "[960]\ttraining's binary_logloss: 0.00141701\tvalid_1's binary_logloss: 0.00139073\n",
            "[970]\ttraining's binary_logloss: 0.00133982\tvalid_1's binary_logloss: 0.00131215\n",
            "[980]\ttraining's binary_logloss: 0.0012639\tvalid_1's binary_logloss: 0.00123596\n",
            "[990]\ttraining's binary_logloss: 0.00119757\tvalid_1's binary_logloss: 0.00116792\n",
            "[1000]\ttraining's binary_logloss: 0.00113693\tvalid_1's binary_logloss: 0.00110236\n",
            "Did not meet early stopping. Best iteration is:\n",
            "[1000]\ttraining's binary_logloss: 0.00113693\tvalid_1's binary_logloss: 0.00110236\n",
            "Training until validation scores don't improve for 10 rounds.\n",
            "[10]\ttraining's binary_logloss: 0.416068\tvalid_1's binary_logloss: 0.418986\n",
            "[20]\ttraining's binary_logloss: 0.357641\tvalid_1's binary_logloss: 0.362729\n",
            "[30]\ttraining's binary_logloss: 0.316332\tvalid_1's binary_logloss: 0.319613\n",
            "[40]\ttraining's binary_logloss: 0.287325\tvalid_1's binary_logloss: 0.287526\n",
            "[50]\ttraining's binary_logloss: 0.263562\tvalid_1's binary_logloss: 0.263107\n",
            "[60]\ttraining's binary_logloss: 0.242486\tvalid_1's binary_logloss: 0.241407\n",
            "[70]\ttraining's binary_logloss: 0.224709\tvalid_1's binary_logloss: 0.224299\n",
            "[80]\ttraining's binary_logloss: 0.207444\tvalid_1's binary_logloss: 0.205495\n",
            "[90]\ttraining's binary_logloss: 0.194221\tvalid_1's binary_logloss: 0.190725\n",
            "[100]\ttraining's binary_logloss: 0.182026\tvalid_1's binary_logloss: 0.17886\n",
            "[110]\ttraining's binary_logloss: 0.169677\tvalid_1's binary_logloss: 0.166422\n",
            "[120]\ttraining's binary_logloss: 0.158913\tvalid_1's binary_logloss: 0.156528\n",
            "[130]\ttraining's binary_logloss: 0.149037\tvalid_1's binary_logloss: 0.146661\n",
            "[140]\ttraining's binary_logloss: 0.140162\tvalid_1's binary_logloss: 0.137926\n",
            "[150]\ttraining's binary_logloss: 0.131644\tvalid_1's binary_logloss: 0.130458\n",
            "[160]\ttraining's binary_logloss: 0.124231\tvalid_1's binary_logloss: 0.123362\n",
            "[170]\ttraining's binary_logloss: 0.116113\tvalid_1's binary_logloss: 0.115735\n",
            "[180]\ttraining's binary_logloss: 0.10942\tvalid_1's binary_logloss: 0.109388\n",
            "[190]\ttraining's binary_logloss: 0.10243\tvalid_1's binary_logloss: 0.102497\n",
            "[200]\ttraining's binary_logloss: 0.0966045\tvalid_1's binary_logloss: 0.0969921\n",
            "[210]\ttraining's binary_logloss: 0.0911192\tvalid_1's binary_logloss: 0.0913983\n",
            "[220]\ttraining's binary_logloss: 0.0852751\tvalid_1's binary_logloss: 0.085266\n",
            "[230]\ttraining's binary_logloss: 0.0800574\tvalid_1's binary_logloss: 0.0797384\n",
            "[240]\ttraining's binary_logloss: 0.075486\tvalid_1's binary_logloss: 0.074601\n",
            "[250]\ttraining's binary_logloss: 0.0716589\tvalid_1's binary_logloss: 0.0711524\n",
            "[260]\ttraining's binary_logloss: 0.0671854\tvalid_1's binary_logloss: 0.0661901\n",
            "[270]\ttraining's binary_logloss: 0.0634208\tvalid_1's binary_logloss: 0.0621492\n",
            "[280]\ttraining's binary_logloss: 0.0601676\tvalid_1's binary_logloss: 0.0592087\n",
            "[290]\ttraining's binary_logloss: 0.0570226\tvalid_1's binary_logloss: 0.05611\n",
            "[300]\ttraining's binary_logloss: 0.0540266\tvalid_1's binary_logloss: 0.0531761\n",
            "[310]\ttraining's binary_logloss: 0.0509287\tvalid_1's binary_logloss: 0.0501033\n",
            "[320]\ttraining's binary_logloss: 0.0480904\tvalid_1's binary_logloss: 0.0476688\n",
            "[330]\ttraining's binary_logloss: 0.0455625\tvalid_1's binary_logloss: 0.0454909\n",
            "[340]\ttraining's binary_logloss: 0.0430531\tvalid_1's binary_logloss: 0.042785\n",
            "[350]\ttraining's binary_logloss: 0.0408278\tvalid_1's binary_logloss: 0.0406601\n",
            "[360]\ttraining's binary_logloss: 0.0387905\tvalid_1's binary_logloss: 0.0386546\n",
            "[370]\ttraining's binary_logloss: 0.0367935\tvalid_1's binary_logloss: 0.0365359\n",
            "[380]\ttraining's binary_logloss: 0.0347933\tvalid_1's binary_logloss: 0.0345011\n",
            "[390]\ttraining's binary_logloss: 0.032801\tvalid_1's binary_logloss: 0.0325298\n",
            "[400]\ttraining's binary_logloss: 0.0309171\tvalid_1's binary_logloss: 0.0306969\n",
            "[410]\ttraining's binary_logloss: 0.0291475\tvalid_1's binary_logloss: 0.0288142\n",
            "[420]\ttraining's binary_logloss: 0.0275111\tvalid_1's binary_logloss: 0.0273601\n",
            "[430]\ttraining's binary_logloss: 0.0259086\tvalid_1's binary_logloss: 0.0258965\n",
            "[440]\ttraining's binary_logloss: 0.0245857\tvalid_1's binary_logloss: 0.0246037\n",
            "[450]\ttraining's binary_logloss: 0.0233219\tvalid_1's binary_logloss: 0.0233033\n",
            "[460]\ttraining's binary_logloss: 0.0221411\tvalid_1's binary_logloss: 0.0220932\n",
            "[470]\ttraining's binary_logloss: 0.0209908\tvalid_1's binary_logloss: 0.0209517\n",
            "[480]\ttraining's binary_logloss: 0.0198944\tvalid_1's binary_logloss: 0.0198706\n",
            "[490]\ttraining's binary_logloss: 0.0188328\tvalid_1's binary_logloss: 0.0187819\n",
            "[500]\ttraining's binary_logloss: 0.0177781\tvalid_1's binary_logloss: 0.017783\n",
            "[510]\ttraining's binary_logloss: 0.016936\tvalid_1's binary_logloss: 0.0168541\n",
            "[520]\ttraining's binary_logloss: 0.0160906\tvalid_1's binary_logloss: 0.0160026\n",
            "[530]\ttraining's binary_logloss: 0.015178\tvalid_1's binary_logloss: 0.0150215\n",
            "[540]\ttraining's binary_logloss: 0.014387\tvalid_1's binary_logloss: 0.014285\n",
            "[550]\ttraining's binary_logloss: 0.0136156\tvalid_1's binary_logloss: 0.0135344\n",
            "[560]\ttraining's binary_logloss: 0.0129229\tvalid_1's binary_logloss: 0.0129945\n",
            "[570]\ttraining's binary_logloss: 0.0122331\tvalid_1's binary_logloss: 0.012252\n",
            "[580]\ttraining's binary_logloss: 0.011503\tvalid_1's binary_logloss: 0.0114881\n",
            "[590]\ttraining's binary_logloss: 0.0108655\tvalid_1's binary_logloss: 0.0107998\n",
            "[600]\ttraining's binary_logloss: 0.0102068\tvalid_1's binary_logloss: 0.0101054\n",
            "[610]\ttraining's binary_logloss: 0.00962759\tvalid_1's binary_logloss: 0.00958844\n",
            "[620]\ttraining's binary_logloss: 0.00916519\tvalid_1's binary_logloss: 0.00913608\n",
            "[630]\ttraining's binary_logloss: 0.00867096\tvalid_1's binary_logloss: 0.00868466\n",
            "[640]\ttraining's binary_logloss: 0.00823061\tvalid_1's binary_logloss: 0.008304\n",
            "[650]\ttraining's binary_logloss: 0.00781971\tvalid_1's binary_logloss: 0.00785499\n",
            "[660]\ttraining's binary_logloss: 0.00740028\tvalid_1's binary_logloss: 0.00739085\n",
            "[670]\ttraining's binary_logloss: 0.00697535\tvalid_1's binary_logloss: 0.0069761\n",
            "[680]\ttraining's binary_logloss: 0.00656771\tvalid_1's binary_logloss: 0.0066012\n",
            "[690]\ttraining's binary_logloss: 0.00620351\tvalid_1's binary_logloss: 0.00617922\n",
            "[700]\ttraining's binary_logloss: 0.0058934\tvalid_1's binary_logloss: 0.00587329\n",
            "[710]\ttraining's binary_logloss: 0.00554762\tvalid_1's binary_logloss: 0.00557452\n",
            "[720]\ttraining's binary_logloss: 0.00525913\tvalid_1's binary_logloss: 0.00529754\n",
            "[730]\ttraining's binary_logloss: 0.00497699\tvalid_1's binary_logloss: 0.00505373\n",
            "[740]\ttraining's binary_logloss: 0.00472656\tvalid_1's binary_logloss: 0.00480694\n",
            "[750]\ttraining's binary_logloss: 0.00449562\tvalid_1's binary_logloss: 0.00456848\n",
            "[760]\ttraining's binary_logloss: 0.0042778\tvalid_1's binary_logloss: 0.00433149\n",
            "[770]\ttraining's binary_logloss: 0.00403257\tvalid_1's binary_logloss: 0.00406601\n",
            "[780]\ttraining's binary_logloss: 0.00380142\tvalid_1's binary_logloss: 0.00385637\n",
            "[790]\ttraining's binary_logloss: 0.00358977\tvalid_1's binary_logloss: 0.00363133\n",
            "[800]\ttraining's binary_logloss: 0.00340871\tvalid_1's binary_logloss: 0.00345379\n",
            "[810]\ttraining's binary_logloss: 0.00323049\tvalid_1's binary_logloss: 0.00328395\n",
            "[820]\ttraining's binary_logloss: 0.00306013\tvalid_1's binary_logloss: 0.00312187\n",
            "[830]\ttraining's binary_logloss: 0.00288724\tvalid_1's binary_logloss: 0.00293576\n",
            "[840]\ttraining's binary_logloss: 0.00272011\tvalid_1's binary_logloss: 0.00275936\n",
            "[850]\ttraining's binary_logloss: 0.00257142\tvalid_1's binary_logloss: 0.00260215\n",
            "[860]\ttraining's binary_logloss: 0.00242702\tvalid_1's binary_logloss: 0.00245776\n",
            "[870]\ttraining's binary_logloss: 0.00228989\tvalid_1's binary_logloss: 0.00231591\n",
            "[880]\ttraining's binary_logloss: 0.00217526\tvalid_1's binary_logloss: 0.00219666\n",
            "[890]\ttraining's binary_logloss: 0.00206509\tvalid_1's binary_logloss: 0.0020872\n",
            "[900]\ttraining's binary_logloss: 0.0019458\tvalid_1's binary_logloss: 0.00196563\n",
            "[910]\ttraining's binary_logloss: 0.00184279\tvalid_1's binary_logloss: 0.00185971\n",
            "[920]\ttraining's binary_logloss: 0.00174612\tvalid_1's binary_logloss: 0.00176047\n",
            "[930]\ttraining's binary_logloss: 0.00166127\tvalid_1's binary_logloss: 0.00167423\n",
            "[940]\ttraining's binary_logloss: 0.00157752\tvalid_1's binary_logloss: 0.00159906\n",
            "[950]\ttraining's binary_logloss: 0.00149813\tvalid_1's binary_logloss: 0.00151453\n",
            "[960]\ttraining's binary_logloss: 0.00141701\tvalid_1's binary_logloss: 0.00142864\n",
            "[970]\ttraining's binary_logloss: 0.00133982\tvalid_1's binary_logloss: 0.00134497\n",
            "[980]\ttraining's binary_logloss: 0.0012639\tvalid_1's binary_logloss: 0.00126932\n",
            "[990]\ttraining's binary_logloss: 0.00119757\tvalid_1's binary_logloss: 0.00120162\n",
            "[1000]\ttraining's binary_logloss: 0.00113693\tvalid_1's binary_logloss: 0.00114303\n",
            "Did not meet early stopping. Best iteration is:\n",
            "[1000]\ttraining's binary_logloss: 0.00113693\tvalid_1's binary_logloss: 0.00114303\n",
            "Training until validation scores don't improve for 10 rounds.\n",
            "[10]\ttraining's binary_logloss: 0.416068\tvalid_1's binary_logloss: 0.42762\n",
            "[20]\ttraining's binary_logloss: 0.357641\tvalid_1's binary_logloss: 0.371344\n",
            "[30]\ttraining's binary_logloss: 0.316332\tvalid_1's binary_logloss: 0.334768\n",
            "[40]\ttraining's binary_logloss: 0.287325\tvalid_1's binary_logloss: 0.30533\n",
            "[50]\ttraining's binary_logloss: 0.263562\tvalid_1's binary_logloss: 0.279726\n",
            "[60]\ttraining's binary_logloss: 0.242486\tvalid_1's binary_logloss: 0.259568\n",
            "[70]\ttraining's binary_logloss: 0.224709\tvalid_1's binary_logloss: 0.242113\n",
            "[80]\ttraining's binary_logloss: 0.207444\tvalid_1's binary_logloss: 0.224192\n",
            "[90]\ttraining's binary_logloss: 0.194221\tvalid_1's binary_logloss: 0.210216\n",
            "[100]\ttraining's binary_logloss: 0.182026\tvalid_1's binary_logloss: 0.197285\n",
            "[110]\ttraining's binary_logloss: 0.169677\tvalid_1's binary_logloss: 0.18412\n",
            "[120]\ttraining's binary_logloss: 0.158913\tvalid_1's binary_logloss: 0.171457\n",
            "[130]\ttraining's binary_logloss: 0.149037\tvalid_1's binary_logloss: 0.161925\n",
            "[140]\ttraining's binary_logloss: 0.140162\tvalid_1's binary_logloss: 0.151711\n",
            "[150]\ttraining's binary_logloss: 0.131644\tvalid_1's binary_logloss: 0.143809\n",
            "[160]\ttraining's binary_logloss: 0.124231\tvalid_1's binary_logloss: 0.135298\n",
            "[170]\ttraining's binary_logloss: 0.116113\tvalid_1's binary_logloss: 0.125668\n",
            "[180]\ttraining's binary_logloss: 0.10942\tvalid_1's binary_logloss: 0.117821\n",
            "[190]\ttraining's binary_logloss: 0.10243\tvalid_1's binary_logloss: 0.109871\n",
            "[200]\ttraining's binary_logloss: 0.0966045\tvalid_1's binary_logloss: 0.103271\n",
            "[210]\ttraining's binary_logloss: 0.0911192\tvalid_1's binary_logloss: 0.0974286\n",
            "[220]\ttraining's binary_logloss: 0.0852751\tvalid_1's binary_logloss: 0.0914746\n",
            "[230]\ttraining's binary_logloss: 0.0800574\tvalid_1's binary_logloss: 0.0864608\n",
            "[240]\ttraining's binary_logloss: 0.075486\tvalid_1's binary_logloss: 0.082131\n",
            "[250]\ttraining's binary_logloss: 0.0716589\tvalid_1's binary_logloss: 0.077743\n",
            "[260]\ttraining's binary_logloss: 0.0671854\tvalid_1's binary_logloss: 0.0731754\n",
            "[270]\ttraining's binary_logloss: 0.0634208\tvalid_1's binary_logloss: 0.0692665\n",
            "[280]\ttraining's binary_logloss: 0.0601676\tvalid_1's binary_logloss: 0.0656452\n",
            "[290]\ttraining's binary_logloss: 0.0570226\tvalid_1's binary_logloss: 0.0620236\n",
            "[300]\ttraining's binary_logloss: 0.0540266\tvalid_1's binary_logloss: 0.058486\n",
            "[310]\ttraining's binary_logloss: 0.0509287\tvalid_1's binary_logloss: 0.0547456\n",
            "[320]\ttraining's binary_logloss: 0.0480904\tvalid_1's binary_logloss: 0.0514062\n",
            "[330]\ttraining's binary_logloss: 0.0455625\tvalid_1's binary_logloss: 0.0486874\n",
            "[340]\ttraining's binary_logloss: 0.0430531\tvalid_1's binary_logloss: 0.0460147\n",
            "[350]\ttraining's binary_logloss: 0.0408278\tvalid_1's binary_logloss: 0.0437985\n",
            "[360]\ttraining's binary_logloss: 0.0387905\tvalid_1's binary_logloss: 0.0415822\n",
            "[370]\ttraining's binary_logloss: 0.0367935\tvalid_1's binary_logloss: 0.0394768\n",
            "[380]\ttraining's binary_logloss: 0.0347933\tvalid_1's binary_logloss: 0.0373048\n",
            "[390]\ttraining's binary_logloss: 0.032801\tvalid_1's binary_logloss: 0.0351989\n",
            "[400]\ttraining's binary_logloss: 0.0309171\tvalid_1's binary_logloss: 0.0332961\n",
            "[410]\ttraining's binary_logloss: 0.0291475\tvalid_1's binary_logloss: 0.03145\n",
            "[420]\ttraining's binary_logloss: 0.0275111\tvalid_1's binary_logloss: 0.0297613\n",
            "[430]\ttraining's binary_logloss: 0.0259086\tvalid_1's binary_logloss: 0.02798\n",
            "[440]\ttraining's binary_logloss: 0.0245857\tvalid_1's binary_logloss: 0.0263449\n",
            "[450]\ttraining's binary_logloss: 0.0233219\tvalid_1's binary_logloss: 0.0251389\n",
            "[460]\ttraining's binary_logloss: 0.0221411\tvalid_1's binary_logloss: 0.0240057\n",
            "[470]\ttraining's binary_logloss: 0.0209908\tvalid_1's binary_logloss: 0.0227356\n",
            "[480]\ttraining's binary_logloss: 0.0198944\tvalid_1's binary_logloss: 0.021505\n",
            "[490]\ttraining's binary_logloss: 0.0188328\tvalid_1's binary_logloss: 0.0204422\n",
            "[500]\ttraining's binary_logloss: 0.0177781\tvalid_1's binary_logloss: 0.0193182\n",
            "[510]\ttraining's binary_logloss: 0.016936\tvalid_1's binary_logloss: 0.0185297\n",
            "[520]\ttraining's binary_logloss: 0.0160906\tvalid_1's binary_logloss: 0.0176468\n",
            "[530]\ttraining's binary_logloss: 0.015178\tvalid_1's binary_logloss: 0.0167144\n",
            "[540]\ttraining's binary_logloss: 0.014387\tvalid_1's binary_logloss: 0.0158804\n",
            "[550]\ttraining's binary_logloss: 0.0136156\tvalid_1's binary_logloss: 0.0149731\n",
            "[560]\ttraining's binary_logloss: 0.0129229\tvalid_1's binary_logloss: 0.0142442\n",
            "[570]\ttraining's binary_logloss: 0.0122331\tvalid_1's binary_logloss: 0.0134237\n",
            "[580]\ttraining's binary_logloss: 0.011503\tvalid_1's binary_logloss: 0.0126271\n",
            "[590]\ttraining's binary_logloss: 0.0108655\tvalid_1's binary_logloss: 0.0119419\n",
            "[600]\ttraining's binary_logloss: 0.0102068\tvalid_1's binary_logloss: 0.0112518\n",
            "[610]\ttraining's binary_logloss: 0.00962759\tvalid_1's binary_logloss: 0.0105638\n",
            "[620]\ttraining's binary_logloss: 0.00916519\tvalid_1's binary_logloss: 0.0100784\n",
            "[630]\ttraining's binary_logloss: 0.00867096\tvalid_1's binary_logloss: 0.00957544\n",
            "[640]\ttraining's binary_logloss: 0.00823061\tvalid_1's binary_logloss: 0.00906778\n",
            "[650]\ttraining's binary_logloss: 0.00781971\tvalid_1's binary_logloss: 0.00861746\n",
            "[660]\ttraining's binary_logloss: 0.00740028\tvalid_1's binary_logloss: 0.00817867\n",
            "[670]\ttraining's binary_logloss: 0.00697535\tvalid_1's binary_logloss: 0.00770419\n",
            "[680]\ttraining's binary_logloss: 0.00656771\tvalid_1's binary_logloss: 0.00725365\n",
            "[690]\ttraining's binary_logloss: 0.00620351\tvalid_1's binary_logloss: 0.00683717\n",
            "[700]\ttraining's binary_logloss: 0.0058934\tvalid_1's binary_logloss: 0.00645888\n",
            "[710]\ttraining's binary_logloss: 0.00554762\tvalid_1's binary_logloss: 0.00604664\n",
            "[720]\ttraining's binary_logloss: 0.00525913\tvalid_1's binary_logloss: 0.00573103\n",
            "[730]\ttraining's binary_logloss: 0.00497699\tvalid_1's binary_logloss: 0.0054036\n",
            "[740]\ttraining's binary_logloss: 0.00472656\tvalid_1's binary_logloss: 0.00512589\n",
            "[750]\ttraining's binary_logloss: 0.00449562\tvalid_1's binary_logloss: 0.00485267\n",
            "[760]\ttraining's binary_logloss: 0.0042778\tvalid_1's binary_logloss: 0.00461539\n",
            "[770]\ttraining's binary_logloss: 0.00403257\tvalid_1's binary_logloss: 0.00434656\n",
            "[780]\ttraining's binary_logloss: 0.00380142\tvalid_1's binary_logloss: 0.00410948\n",
            "[790]\ttraining's binary_logloss: 0.00358977\tvalid_1's binary_logloss: 0.00389678\n",
            "[800]\ttraining's binary_logloss: 0.00340871\tvalid_1's binary_logloss: 0.00367947\n",
            "[810]\ttraining's binary_logloss: 0.00323049\tvalid_1's binary_logloss: 0.00347275\n",
            "[820]\ttraining's binary_logloss: 0.00306013\tvalid_1's binary_logloss: 0.00328587\n",
            "[830]\ttraining's binary_logloss: 0.00288724\tvalid_1's binary_logloss: 0.00309526\n",
            "[840]\ttraining's binary_logloss: 0.00272011\tvalid_1's binary_logloss: 0.00292378\n",
            "[850]\ttraining's binary_logloss: 0.00257142\tvalid_1's binary_logloss: 0.00277188\n",
            "[860]\ttraining's binary_logloss: 0.00242702\tvalid_1's binary_logloss: 0.00259597\n",
            "[870]\ttraining's binary_logloss: 0.00228989\tvalid_1's binary_logloss: 0.00245228\n",
            "[880]\ttraining's binary_logloss: 0.00217526\tvalid_1's binary_logloss: 0.00234347\n",
            "[890]\ttraining's binary_logloss: 0.00206509\tvalid_1's binary_logloss: 0.00221604\n",
            "[900]\ttraining's binary_logloss: 0.0019458\tvalid_1's binary_logloss: 0.00209259\n",
            "[910]\ttraining's binary_logloss: 0.00184279\tvalid_1's binary_logloss: 0.00197911\n",
            "[920]\ttraining's binary_logloss: 0.00174612\tvalid_1's binary_logloss: 0.00187471\n",
            "[930]\ttraining's binary_logloss: 0.00166127\tvalid_1's binary_logloss: 0.00177812\n",
            "[940]\ttraining's binary_logloss: 0.00157752\tvalid_1's binary_logloss: 0.00168121\n",
            "[950]\ttraining's binary_logloss: 0.00149813\tvalid_1's binary_logloss: 0.00160835\n",
            "[960]\ttraining's binary_logloss: 0.00141701\tvalid_1's binary_logloss: 0.0015245\n",
            "[970]\ttraining's binary_logloss: 0.00133982\tvalid_1's binary_logloss: 0.00144733\n",
            "[980]\ttraining's binary_logloss: 0.0012639\tvalid_1's binary_logloss: 0.00137343\n",
            "[990]\ttraining's binary_logloss: 0.00119757\tvalid_1's binary_logloss: 0.0012956\n",
            "[1000]\ttraining's binary_logloss: 0.00113693\tvalid_1's binary_logloss: 0.00122907\n",
            "Did not meet early stopping. Best iteration is:\n",
            "[1000]\ttraining's binary_logloss: 0.00113693\tvalid_1's binary_logloss: 0.00122907\n",
            "Training until validation scores don't improve for 10 rounds.\n",
            "[10]\ttraining's binary_logloss: 0.416068\tvalid_1's binary_logloss: 0.412429\n",
            "[20]\ttraining's binary_logloss: 0.357641\tvalid_1's binary_logloss: 0.352649\n",
            "[30]\ttraining's binary_logloss: 0.316332\tvalid_1's binary_logloss: 0.310631\n",
            "[40]\ttraining's binary_logloss: 0.287325\tvalid_1's binary_logloss: 0.28392\n",
            "[50]\ttraining's binary_logloss: 0.263562\tvalid_1's binary_logloss: 0.26309\n",
            "[60]\ttraining's binary_logloss: 0.242486\tvalid_1's binary_logloss: 0.24235\n",
            "[70]\ttraining's binary_logloss: 0.224709\tvalid_1's binary_logloss: 0.225032\n",
            "[80]\ttraining's binary_logloss: 0.207444\tvalid_1's binary_logloss: 0.206694\n",
            "[90]\ttraining's binary_logloss: 0.194221\tvalid_1's binary_logloss: 0.19309\n",
            "[100]\ttraining's binary_logloss: 0.182026\tvalid_1's binary_logloss: 0.180583\n",
            "[110]\ttraining's binary_logloss: 0.169677\tvalid_1's binary_logloss: 0.169534\n",
            "[120]\ttraining's binary_logloss: 0.158913\tvalid_1's binary_logloss: 0.159157\n",
            "[130]\ttraining's binary_logloss: 0.149037\tvalid_1's binary_logloss: 0.148338\n",
            "[140]\ttraining's binary_logloss: 0.140162\tvalid_1's binary_logloss: 0.140311\n",
            "[150]\ttraining's binary_logloss: 0.131644\tvalid_1's binary_logloss: 0.13105\n",
            "[160]\ttraining's binary_logloss: 0.124231\tvalid_1's binary_logloss: 0.123577\n",
            "[170]\ttraining's binary_logloss: 0.116113\tvalid_1's binary_logloss: 0.115361\n",
            "[180]\ttraining's binary_logloss: 0.10942\tvalid_1's binary_logloss: 0.109408\n",
            "[190]\ttraining's binary_logloss: 0.10243\tvalid_1's binary_logloss: 0.102976\n",
            "[200]\ttraining's binary_logloss: 0.0966045\tvalid_1's binary_logloss: 0.0968846\n",
            "[210]\ttraining's binary_logloss: 0.0911192\tvalid_1's binary_logloss: 0.0914688\n",
            "[220]\ttraining's binary_logloss: 0.0852751\tvalid_1's binary_logloss: 0.0854633\n",
            "[230]\ttraining's binary_logloss: 0.0800574\tvalid_1's binary_logloss: 0.0801469\n",
            "[240]\ttraining's binary_logloss: 0.075486\tvalid_1's binary_logloss: 0.0752167\n",
            "[250]\ttraining's binary_logloss: 0.0716589\tvalid_1's binary_logloss: 0.0716647\n",
            "[260]\ttraining's binary_logloss: 0.0671854\tvalid_1's binary_logloss: 0.0673555\n",
            "[270]\ttraining's binary_logloss: 0.0634208\tvalid_1's binary_logloss: 0.063429\n",
            "[280]\ttraining's binary_logloss: 0.0601676\tvalid_1's binary_logloss: 0.0602213\n",
            "[290]\ttraining's binary_logloss: 0.0570226\tvalid_1's binary_logloss: 0.0574129\n",
            "[300]\ttraining's binary_logloss: 0.0540266\tvalid_1's binary_logloss: 0.0546126\n",
            "[310]\ttraining's binary_logloss: 0.0509287\tvalid_1's binary_logloss: 0.052013\n",
            "[320]\ttraining's binary_logloss: 0.0480904\tvalid_1's binary_logloss: 0.0492457\n",
            "[330]\ttraining's binary_logloss: 0.0455625\tvalid_1's binary_logloss: 0.0465117\n",
            "[340]\ttraining's binary_logloss: 0.0430531\tvalid_1's binary_logloss: 0.0440095\n",
            "[350]\ttraining's binary_logloss: 0.0408278\tvalid_1's binary_logloss: 0.0416813\n",
            "[360]\ttraining's binary_logloss: 0.0387905\tvalid_1's binary_logloss: 0.0396569\n",
            "[370]\ttraining's binary_logloss: 0.0367935\tvalid_1's binary_logloss: 0.0376173\n",
            "[380]\ttraining's binary_logloss: 0.0347933\tvalid_1's binary_logloss: 0.035596\n",
            "[390]\ttraining's binary_logloss: 0.032801\tvalid_1's binary_logloss: 0.0337635\n",
            "[400]\ttraining's binary_logloss: 0.0309171\tvalid_1's binary_logloss: 0.0316991\n",
            "[410]\ttraining's binary_logloss: 0.0291475\tvalid_1's binary_logloss: 0.029824\n",
            "[420]\ttraining's binary_logloss: 0.0275111\tvalid_1's binary_logloss: 0.0280283\n",
            "[430]\ttraining's binary_logloss: 0.0259086\tvalid_1's binary_logloss: 0.0263749\n",
            "[440]\ttraining's binary_logloss: 0.0245857\tvalid_1's binary_logloss: 0.0251754\n",
            "[450]\ttraining's binary_logloss: 0.0233219\tvalid_1's binary_logloss: 0.0239642\n",
            "[460]\ttraining's binary_logloss: 0.0221411\tvalid_1's binary_logloss: 0.0227702\n",
            "[470]\ttraining's binary_logloss: 0.0209908\tvalid_1's binary_logloss: 0.0216896\n",
            "[480]\ttraining's binary_logloss: 0.0198944\tvalid_1's binary_logloss: 0.0205091\n",
            "[490]\ttraining's binary_logloss: 0.0188328\tvalid_1's binary_logloss: 0.0193312\n",
            "[500]\ttraining's binary_logloss: 0.0177781\tvalid_1's binary_logloss: 0.018175\n",
            "[510]\ttraining's binary_logloss: 0.016936\tvalid_1's binary_logloss: 0.0172363\n",
            "[520]\ttraining's binary_logloss: 0.0160906\tvalid_1's binary_logloss: 0.0162933\n",
            "[530]\ttraining's binary_logloss: 0.015178\tvalid_1's binary_logloss: 0.0154151\n",
            "[540]\ttraining's binary_logloss: 0.014387\tvalid_1's binary_logloss: 0.0145265\n",
            "[550]\ttraining's binary_logloss: 0.0136156\tvalid_1's binary_logloss: 0.0137597\n",
            "[560]\ttraining's binary_logloss: 0.0129229\tvalid_1's binary_logloss: 0.0129043\n",
            "[570]\ttraining's binary_logloss: 0.0122331\tvalid_1's binary_logloss: 0.0123875\n",
            "[580]\ttraining's binary_logloss: 0.011503\tvalid_1's binary_logloss: 0.0116693\n",
            "[590]\ttraining's binary_logloss: 0.0108655\tvalid_1's binary_logloss: 0.0111102\n",
            "[600]\ttraining's binary_logloss: 0.0102068\tvalid_1's binary_logloss: 0.0104495\n",
            "[610]\ttraining's binary_logloss: 0.00962759\tvalid_1's binary_logloss: 0.00986296\n",
            "[620]\ttraining's binary_logloss: 0.00916519\tvalid_1's binary_logloss: 0.009393\n",
            "[630]\ttraining's binary_logloss: 0.00867096\tvalid_1's binary_logloss: 0.00893281\n",
            "[640]\ttraining's binary_logloss: 0.00823061\tvalid_1's binary_logloss: 0.00843664\n",
            "[650]\ttraining's binary_logloss: 0.00781971\tvalid_1's binary_logloss: 0.00803142\n",
            "[660]\ttraining's binary_logloss: 0.00740028\tvalid_1's binary_logloss: 0.00757685\n",
            "[670]\ttraining's binary_logloss: 0.00697535\tvalid_1's binary_logloss: 0.00712993\n",
            "[680]\ttraining's binary_logloss: 0.00656771\tvalid_1's binary_logloss: 0.00672095\n",
            "[690]\ttraining's binary_logloss: 0.00620351\tvalid_1's binary_logloss: 0.00637534\n",
            "[700]\ttraining's binary_logloss: 0.0058934\tvalid_1's binary_logloss: 0.00605856\n",
            "[710]\ttraining's binary_logloss: 0.00554762\tvalid_1's binary_logloss: 0.00566511\n",
            "[720]\ttraining's binary_logloss: 0.00525913\tvalid_1's binary_logloss: 0.00536005\n",
            "[730]\ttraining's binary_logloss: 0.00497699\tvalid_1's binary_logloss: 0.00508872\n",
            "[740]\ttraining's binary_logloss: 0.00472656\tvalid_1's binary_logloss: 0.00484072\n",
            "[750]\ttraining's binary_logloss: 0.00449562\tvalid_1's binary_logloss: 0.00461363\n",
            "[760]\ttraining's binary_logloss: 0.0042778\tvalid_1's binary_logloss: 0.00437711\n",
            "[770]\ttraining's binary_logloss: 0.00403257\tvalid_1's binary_logloss: 0.00411353\n",
            "[780]\ttraining's binary_logloss: 0.00380142\tvalid_1's binary_logloss: 0.0038807\n",
            "[790]\ttraining's binary_logloss: 0.00358977\tvalid_1's binary_logloss: 0.00368512\n",
            "[800]\ttraining's binary_logloss: 0.00340871\tvalid_1's binary_logloss: 0.00349534\n",
            "[810]\ttraining's binary_logloss: 0.00323049\tvalid_1's binary_logloss: 0.00329819\n",
            "[820]\ttraining's binary_logloss: 0.00306013\tvalid_1's binary_logloss: 0.00313119\n",
            "[830]\ttraining's binary_logloss: 0.00288724\tvalid_1's binary_logloss: 0.00296537\n",
            "[840]\ttraining's binary_logloss: 0.00272011\tvalid_1's binary_logloss: 0.00278087\n",
            "[850]\ttraining's binary_logloss: 0.00257142\tvalid_1's binary_logloss: 0.00262084\n",
            "[860]\ttraining's binary_logloss: 0.00242702\tvalid_1's binary_logloss: 0.00247433\n",
            "[870]\ttraining's binary_logloss: 0.00228989\tvalid_1's binary_logloss: 0.00233627\n",
            "[880]\ttraining's binary_logloss: 0.00217526\tvalid_1's binary_logloss: 0.0022244\n",
            "[890]\ttraining's binary_logloss: 0.00206509\tvalid_1's binary_logloss: 0.00213483\n",
            "[900]\ttraining's binary_logloss: 0.0019458\tvalid_1's binary_logloss: 0.0020204\n",
            "[910]\ttraining's binary_logloss: 0.00184279\tvalid_1's binary_logloss: 0.0019034\n",
            "[920]\ttraining's binary_logloss: 0.00174612\tvalid_1's binary_logloss: 0.00180388\n",
            "[930]\ttraining's binary_logloss: 0.00166127\tvalid_1's binary_logloss: 0.00171233\n",
            "[940]\ttraining's binary_logloss: 0.00157752\tvalid_1's binary_logloss: 0.00162349\n",
            "[950]\ttraining's binary_logloss: 0.00149813\tvalid_1's binary_logloss: 0.00153909\n",
            "[960]\ttraining's binary_logloss: 0.00141701\tvalid_1's binary_logloss: 0.00146383\n",
            "[970]\ttraining's binary_logloss: 0.00133982\tvalid_1's binary_logloss: 0.00138132\n",
            "[980]\ttraining's binary_logloss: 0.0012639\tvalid_1's binary_logloss: 0.00130458\n",
            "[990]\ttraining's binary_logloss: 0.00119757\tvalid_1's binary_logloss: 0.00123841\n",
            "[1000]\ttraining's binary_logloss: 0.00113693\tvalid_1's binary_logloss: 0.00117892\n",
            "Did not meet early stopping. Best iteration is:\n",
            "[1000]\ttraining's binary_logloss: 0.00113693\tvalid_1's binary_logloss: 0.00117892\n"
          ],
          "name": "stdout"
        }
      ]
    },
    {
      "cell_type": "code",
      "metadata": {
        "colab": {
          "base_uri": "https://localhost:8080/"
        },
        "id": "PulxDaapKfBa",
        "outputId": "fb277474-9782-4025-90f8-ce249b2cfd94"
      },
      "source": [
        "print(oof_train[:10])\r\n",
        "\r\n",
        "scores = [\r\n",
        "    m.best_score['valid_1']['binary_logloss'] for m in models\r\n",
        "]\r\n",
        "score = sum(scores) / len(scores)\r\n",
        "print('===CV scores===')\r\n",
        "print(scores)\r\n",
        "print(score)"
      ],
      "execution_count": null,
      "outputs": [
        {
          "output_type": "stream",
          "text": [
            "[0.        0.        0.        0.        0.        0.        0.\n",
            " 0.        0.        0.0034795]\n",
            "===CV scores===\n",
            "[0.0010312484320296005, 0.0011023616756716966, 0.001143027831142683, 0.0012290691120996429, 0.0011789240588205303]\n",
            "0.0011369262219528306\n"
          ],
          "name": "stdout"
        }
      ]
    },
    {
      "cell_type": "code",
      "metadata": {
        "colab": {
          "base_uri": "https://localhost:8080/"
        },
        "id": "kyj6p7h-I0RF",
        "outputId": "8651bc43-5344-4971-ffde-7aedc611eab1"
      },
      "source": [
        "y_pred_oof = (oof_train > 0.5).astype(int)\r\n",
        "accuracy_score(y_train, y_pred_oof)"
      ],
      "execution_count": null,
      "outputs": [
        {
          "output_type": "execute_result",
          "data": {
            "text/plain": [
              "0.809"
            ]
          },
          "metadata": {
            "tags": []
          },
          "execution_count": 155
        }
      ]
    },
    {
      "cell_type": "code",
      "metadata": {
        "colab": {
          "base_uri": "https://localhost:8080/"
        },
        "id": "DcCE_zVCLC3O",
        "outputId": "609074e4-59f2-4583-9628-10dbd581ae9d"
      },
      "source": [
        "y_sub = sum(y_preds) / len(y_preds)\r\n",
        "y_sub = (y_sub > 0.5).astype(int)\r\n",
        "y_sub[:10]"
      ],
      "execution_count": null,
      "outputs": [
        {
          "output_type": "execute_result",
          "data": {
            "text/plain": [
              "array([0, 0, 0, 1, 0, 0, 0, 0, 1, 0])"
            ]
          },
          "metadata": {
            "tags": []
          },
          "execution_count": 156
        }
      ]
    },
    {
      "cell_type": "code",
      "metadata": {
        "colab": {
          "base_uri": "https://localhost:8080/",
          "height": 198
        },
        "id": "ukJww3PQZF_k",
        "outputId": "4529dfad-a895-4c87-f9ec-ba117b1d8426"
      },
      "source": [
        "sub[1] = y_sub\r\n",
        "sub.to_csv('submission_lgbm_StrKfold.csv', index=False, header=False)\r\n",
        "\r\n",
        "sub.head()"
      ],
      "execution_count": null,
      "outputs": [
        {
          "output_type": "execute_result",
          "data": {
            "text/html": [
              "<div>\n",
              "<style scoped>\n",
              "    .dataframe tbody tr th:only-of-type {\n",
              "        vertical-align: middle;\n",
              "    }\n",
              "\n",
              "    .dataframe tbody tr th {\n",
              "        vertical-align: top;\n",
              "    }\n",
              "\n",
              "    .dataframe thead th {\n",
              "        text-align: right;\n",
              "    }\n",
              "</style>\n",
              "<table border=\"1\" class=\"dataframe\">\n",
              "  <thead>\n",
              "    <tr style=\"text-align: right;\">\n",
              "      <th></th>\n",
              "      <th>0</th>\n",
              "      <th>1</th>\n",
              "    </tr>\n",
              "  </thead>\n",
              "  <tbody>\n",
              "    <tr>\n",
              "      <th>0</th>\n",
              "      <td>398</td>\n",
              "      <td>0</td>\n",
              "    </tr>\n",
              "    <tr>\n",
              "      <th>1</th>\n",
              "      <td>3833</td>\n",
              "      <td>0</td>\n",
              "    </tr>\n",
              "    <tr>\n",
              "      <th>2</th>\n",
              "      <td>4836</td>\n",
              "      <td>0</td>\n",
              "    </tr>\n",
              "    <tr>\n",
              "      <th>3</th>\n",
              "      <td>4572</td>\n",
              "      <td>1</td>\n",
              "    </tr>\n",
              "    <tr>\n",
              "      <th>4</th>\n",
              "      <td>636</td>\n",
              "      <td>0</td>\n",
              "    </tr>\n",
              "  </tbody>\n",
              "</table>\n",
              "</div>"
            ],
            "text/plain": [
              "      0  1\n",
              "0   398  0\n",
              "1  3833  0\n",
              "2  4836  0\n",
              "3  4572  1\n",
              "4   636  0"
            ]
          },
          "metadata": {
            "tags": []
          },
          "execution_count": 157
        }
      ]
    },
    {
      "cell_type": "code",
      "metadata": {
        "colab": {
          "base_uri": "https://localhost:8080/",
          "height": 17
        },
        "id": "TFM0LvSEHfSb",
        "outputId": "4a55f11b-9c25-4884-abd4-8d54e3621aaf"
      },
      "source": [
        "files.download('submission_lgbm_StrKfold.csv') "
      ],
      "execution_count": null,
      "outputs": [
        {
          "output_type": "display_data",
          "data": {
            "application/javascript": [
              "\n",
              "    async function download(id, filename, size) {\n",
              "      if (!google.colab.kernel.accessAllowed) {\n",
              "        return;\n",
              "      }\n",
              "      const div = document.createElement('div');\n",
              "      const label = document.createElement('label');\n",
              "      label.textContent = `Downloading \"${filename}\": `;\n",
              "      div.appendChild(label);\n",
              "      const progress = document.createElement('progress');\n",
              "      progress.max = size;\n",
              "      div.appendChild(progress);\n",
              "      document.body.appendChild(div);\n",
              "\n",
              "      const buffers = [];\n",
              "      let downloaded = 0;\n",
              "\n",
              "      const channel = await google.colab.kernel.comms.open(id);\n",
              "      // Send a message to notify the kernel that we're ready.\n",
              "      channel.send({})\n",
              "\n",
              "      for await (const message of channel.messages) {\n",
              "        // Send a message to notify the kernel that we're ready.\n",
              "        channel.send({})\n",
              "        if (message.buffers) {\n",
              "          for (const buffer of message.buffers) {\n",
              "            buffers.push(buffer);\n",
              "            downloaded += buffer.byteLength;\n",
              "            progress.value = downloaded;\n",
              "          }\n",
              "        }\n",
              "      }\n",
              "      const blob = new Blob(buffers, {type: 'application/binary'});\n",
              "      const a = document.createElement('a');\n",
              "      a.href = window.URL.createObjectURL(blob);\n",
              "      a.download = filename;\n",
              "      div.appendChild(a);\n",
              "      a.click();\n",
              "      div.remove();\n",
              "    }\n",
              "  "
            ],
            "text/plain": [
              "<IPython.core.display.Javascript object>"
            ]
          },
          "metadata": {
            "tags": []
          }
        },
        {
          "output_type": "display_data",
          "data": {
            "application/javascript": [
              "download(\"download_b8236e30-4527-4571-8de0-54c9f6f0060b\", \"submission_lgbm_StrKfold.csv\", 13556)"
            ],
            "text/plain": [
              "<IPython.core.display.Javascript object>"
            ]
          },
          "metadata": {
            "tags": []
          }
        }
      ]
    }
  ]
}