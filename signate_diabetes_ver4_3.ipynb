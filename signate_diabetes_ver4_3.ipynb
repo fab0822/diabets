{
  "nbformat": 4,
  "nbformat_minor": 0,
  "metadata": {
    "colab": {
      "name": "signate_diabetes_ver4.3.ipynb ",
      "provenance": [],
      "collapsed_sections": [],
      "authorship_tag": "ABX9TyMzwMalXAZc6uIPS6ZUidMz",
      "include_colab_link": true
    },
    "kernelspec": {
      "name": "python3",
      "display_name": "Python 3"
    }
  },
  "cells": [
    {
      "cell_type": "markdown",
      "metadata": {
        "id": "view-in-github",
        "colab_type": "text"
      },
      "source": [
        "<a href=\"https://colab.research.google.com/github/fab0822/diabets/blob/master/signate_diabetes_ver4_3.ipynb\" target=\"_parent\"><img src=\"https://colab.research.google.com/assets/colab-badge.svg\" alt=\"Open In Colab\"/></a>"
      ]
    },
    {
      "cell_type": "code",
      "metadata": {
        "id": "Qfz_qdvEvZVg"
      },
      "source": [
        "import numpy as np\r\n",
        "import pandas as pd\r\n",
        "import matplotlib.pyplot as plt\r\n",
        "import seaborn as sns\r\n",
        "from datetime import datetime\r\n",
        "import csv\r\n",
        "import warnings\r\n",
        "warnings.filterwarnings('ignore')\r\n",
        "\r\n",
        "import matplotlib.gridspec as gridspec\r\n",
        "from matplotlib.ticker import MaxNLocator\r\n",
        "\r\n",
        "import lightgbm as lgb\r\n",
        "from sklearn.model_selection import train_test_split\r\n",
        "from sklearn.model_selection import StratifiedKFold\r\n",
        "from sklearn.metrics import accuracy_score\r\n",
        "from sklearn.metrics import (roc_curve, auc)\r\n",
        "from sklearn.model_selection import GridSearchCV\r\n",
        "\r\n",
        "\r\n",
        "from google.colab import drive\r\n",
        "from google.colab import files"
      ],
      "execution_count": 132,
      "outputs": []
    },
    {
      "cell_type": "code",
      "metadata": {
        "id": "XkHR9zOfUhVm"
      },
      "source": [
        "SEED = 2021\r\n",
        "NUM_COL = 8"
      ],
      "execution_count": 133,
      "outputs": []
    },
    {
      "cell_type": "code",
      "metadata": {
        "id": "s7nREyUQscez"
      },
      "source": [
        "params = {'boosting_type': 'gbdt',\r\n",
        "          'max_depth' : -1,\r\n",
        "          'objective': 'binary',\r\n",
        "          'nthread': 3, # Updated from nthread\r\n",
        "          'num_leaves': 64,\r\n",
        "          'learning_rate': 0.05,\r\n",
        "          'max_bin': 512,\r\n",
        "          'subsample_for_bin': 200,\r\n",
        "          'subsample': 1,\r\n",
        "          'subsample_freq': 1,\r\n",
        "          'colsample_bytree': 0.8,\r\n",
        "          'reg_alpha': 5,\r\n",
        "          'reg_lambda': 10,\r\n",
        "          'min_split_gain': 0.5,\r\n",
        "          'min_child_weight': 1,\r\n",
        "          'min_child_samples': 5,\r\n",
        "          'scale_pos_weight': 1,\r\n",
        "          'num_class' : 1,\r\n",
        "          'metric' : 'binary_logloss'}"
      ],
      "execution_count": 134,
      "outputs": []
    },
    {
      "cell_type": "code",
      "metadata": {
        "id": "qsr20ooIY4pS"
      },
      "source": [
        "grid_params = {\r\n",
        "    'learning_rate': [0.0050, 0.0075, 0.001, 0.0015, 0.01, 0.05],\r\n",
        "    'n_estimators': [40, 80, 120],\r\n",
        "    'num_leaves': [8, 16, 32, 64, 128, 256],\r\n",
        "    'boosting_type' : ['gbdt'],\r\n",
        "    'objective' : ['binary'],\r\n",
        "    'random_state' : [SEED], # Updated from 'seed'\r\n",
        "    'colsample_bytree' : [0.65, 0.8],\r\n",
        "    'subsample' : [0.7,0.75],\r\n",
        "    'reg_alpha' : [1,1.2],\r\n",
        "    'reg_lambda' : [1,1.2,1.4],\r\n",
        "    }"
      ],
      "execution_count": 135,
      "outputs": []
    },
    {
      "cell_type": "code",
      "metadata": {
        "colab": {
          "base_uri": "https://localhost:8080/"
        },
        "id": "1cUeitwAynz8",
        "outputId": "0cd8225e-e9e8-4e8b-f8f6-7addc5ae2462"
      },
      "source": [
        "drive.mount('/content/drive')"
      ],
      "execution_count": 136,
      "outputs": [
        {
          "output_type": "stream",
          "text": [
            "Drive already mounted at /content/drive; to attempt to forcibly remount, call drive.mount(\"/content/drive\", force_remount=True).\n"
          ],
          "name": "stdout"
        }
      ]
    },
    {
      "cell_type": "code",
      "metadata": {
        "id": "o3D4Qduz2-Tp"
      },
      "source": [
        "train = pd.read_csv('/content/drive/My Drive/train (1).csv')\r\n",
        "test = pd.read_csv('/content/drive/My Drive/test (1).csv')\r\n",
        "\r\n",
        "data = pd.concat([train, test]).reset_index(drop=True)\r\n",
        "\r\n",
        "sub = pd.read_csv('/content/drive/My Drive/sample_submit (1).csv', header=None)"
      ],
      "execution_count": 137,
      "outputs": []
    },
    {
      "cell_type": "code",
      "metadata": {
        "id": "meupgWIXRAYE"
      },
      "source": [
        "data.drop('index', axis=1, inplace=True)"
      ],
      "execution_count": 138,
      "outputs": []
    },
    {
      "cell_type": "code",
      "metadata": {
        "id": "eb1zWbjqC76m"
      },
      "source": [
        "D = data[(data['Outcome'] != 0)]\r\n",
        "H = data[(data['Outcome'] == 0)]"
      ],
      "execution_count": 139,
      "outputs": []
    },
    {
      "cell_type": "code",
      "metadata": {
        "colab": {
          "base_uri": "https://localhost:8080/"
        },
        "id": "cj6F0QcVDU8Q",
        "outputId": "be30d153-6244-46b3-de06-6616176c9f9e"
      },
      "source": [
        "D['Outcome'].count()"
      ],
      "execution_count": 140,
      "outputs": [
        {
          "output_type": "execute_result",
          "data": {
            "text/plain": [
              "717"
            ]
          },
          "metadata": {
            "tags": []
          },
          "execution_count": 140
        }
      ]
    },
    {
      "cell_type": "code",
      "metadata": {
        "colab": {
          "base_uri": "https://localhost:8080/"
        },
        "id": "a0MEiRauDabD",
        "outputId": "54ca615c-7ac9-42b5-f1b1-f3757941b8d0"
      },
      "source": [
        "H['Outcome'].count()"
      ],
      "execution_count": 141,
      "outputs": [
        {
          "output_type": "execute_result",
          "data": {
            "text/plain": [
              "2283"
            ]
          },
          "metadata": {
            "tags": []
          },
          "execution_count": 141
        }
      ]
    },
    {
      "cell_type": "code",
      "metadata": {
        "id": "QM3MSZ_q6mqb"
      },
      "source": [
        "train.drop('index', axis=1, inplace=True)\r\n",
        "test.drop('index', axis=1, inplace=True)"
      ],
      "execution_count": 142,
      "outputs": []
    },
    {
      "cell_type": "code",
      "metadata": {
        "colab": {
          "base_uri": "https://localhost:8080/",
          "height": 198
        },
        "id": "GteQ2klu6n8v",
        "outputId": "90af4f81-d3c5-4668-c1fb-e2c439a0cd20"
      },
      "source": [
        "train.head()"
      ],
      "execution_count": 143,
      "outputs": [
        {
          "output_type": "execute_result",
          "data": {
            "text/html": [
              "<div>\n",
              "<style scoped>\n",
              "    .dataframe tbody tr th:only-of-type {\n",
              "        vertical-align: middle;\n",
              "    }\n",
              "\n",
              "    .dataframe tbody tr th {\n",
              "        vertical-align: top;\n",
              "    }\n",
              "\n",
              "    .dataframe thead th {\n",
              "        text-align: right;\n",
              "    }\n",
              "</style>\n",
              "<table border=\"1\" class=\"dataframe\">\n",
              "  <thead>\n",
              "    <tr style=\"text-align: right;\">\n",
              "      <th></th>\n",
              "      <th>Pregnancies</th>\n",
              "      <th>Glucose</th>\n",
              "      <th>BloodPressure</th>\n",
              "      <th>SkinThickness</th>\n",
              "      <th>Insulin</th>\n",
              "      <th>BMI</th>\n",
              "      <th>DiabetesPedigreeFunction</th>\n",
              "      <th>Age</th>\n",
              "      <th>Outcome</th>\n",
              "    </tr>\n",
              "  </thead>\n",
              "  <tbody>\n",
              "    <tr>\n",
              "      <th>0</th>\n",
              "      <td>9</td>\n",
              "      <td>125</td>\n",
              "      <td>74</td>\n",
              "      <td>0</td>\n",
              "      <td>0</td>\n",
              "      <td>28.536910</td>\n",
              "      <td>0.444902</td>\n",
              "      <td>45</td>\n",
              "      <td>1</td>\n",
              "    </tr>\n",
              "    <tr>\n",
              "      <th>1</th>\n",
              "      <td>4</td>\n",
              "      <td>109</td>\n",
              "      <td>80</td>\n",
              "      <td>0</td>\n",
              "      <td>0</td>\n",
              "      <td>28.047673</td>\n",
              "      <td>0.238243</td>\n",
              "      <td>22</td>\n",
              "      <td>0</td>\n",
              "    </tr>\n",
              "    <tr>\n",
              "      <th>2</th>\n",
              "      <td>4</td>\n",
              "      <td>88</td>\n",
              "      <td>78</td>\n",
              "      <td>39</td>\n",
              "      <td>0</td>\n",
              "      <td>52.371341</td>\n",
              "      <td>0.279471</td>\n",
              "      <td>26</td>\n",
              "      <td>0</td>\n",
              "    </tr>\n",
              "    <tr>\n",
              "      <th>3</th>\n",
              "      <td>9</td>\n",
              "      <td>125</td>\n",
              "      <td>74</td>\n",
              "      <td>0</td>\n",
              "      <td>0</td>\n",
              "      <td>40.062688</td>\n",
              "      <td>0.203922</td>\n",
              "      <td>45</td>\n",
              "      <td>0</td>\n",
              "    </tr>\n",
              "    <tr>\n",
              "      <th>4</th>\n",
              "      <td>5</td>\n",
              "      <td>107</td>\n",
              "      <td>78</td>\n",
              "      <td>44</td>\n",
              "      <td>284</td>\n",
              "      <td>52.935068</td>\n",
              "      <td>0.284959</td>\n",
              "      <td>45</td>\n",
              "      <td>1</td>\n",
              "    </tr>\n",
              "  </tbody>\n",
              "</table>\n",
              "</div>"
            ],
            "text/plain": [
              "   Pregnancies  Glucose  BloodPressure  ...  DiabetesPedigreeFunction  Age  Outcome\n",
              "0            9      125             74  ...                  0.444902   45        1\n",
              "1            4      109             80  ...                  0.238243   22        0\n",
              "2            4       88             78  ...                  0.279471   26        0\n",
              "3            9      125             74  ...                  0.203922   45        0\n",
              "4            5      107             78  ...                  0.284959   45        1\n",
              "\n",
              "[5 rows x 9 columns]"
            ]
          },
          "metadata": {
            "tags": []
          },
          "execution_count": 143
        }
      ]
    },
    {
      "cell_type": "code",
      "metadata": {
        "id": "Up4xZOsb8O9F"
      },
      "source": [
        "y_train = train['Outcome'].reset_index(drop=True)\r\n",
        "train_features = train.drop(['Outcome'], axis=1)\r\n",
        "test_features = test"
      ],
      "execution_count": 144,
      "outputs": []
    },
    {
      "cell_type": "code",
      "metadata": {
        "id": "Ti4aqodpI75Y"
      },
      "source": [
        "train_features.loc[train_features['BMI']<1, 'BMI'] = 0\r\n",
        "test_features.loc[test_features['BMI']<1, 'BMI'] = 0\r\n",
        "data.loc[data['BMI']<1, 'BMI'] = 0"
      ],
      "execution_count": 145,
      "outputs": []
    },
    {
      "cell_type": "code",
      "metadata": {
        "id": "gVUwySS57qYd"
      },
      "source": [
        "train_features[['Glucose','BloodPressure','SkinThickness','Insulin','BMI']] = train_features[['Glucose','BloodPressure','SkinThickness','Insulin','BMI']].replace(0,np.NaN)\r\n",
        "test_features[['Glucose','BloodPressure','SkinThickness','Insulin','BMI']] = test_features[['Glucose','BloodPressure','SkinThickness','Insulin','BMI']].replace(0,np.NaN)\r\n",
        "data[['Glucose','BloodPressure','SkinThickness','Insulin','BMI']] = data[['Glucose','BloodPressure','SkinThickness','Insulin','BMI']].replace(0,np.NaN)"
      ],
      "execution_count": 146,
      "outputs": []
    },
    {
      "cell_type": "code",
      "metadata": {
        "colab": {
          "base_uri": "https://localhost:8080/"
        },
        "id": "4PHoJuis897m",
        "outputId": "8d6244a3-9c54-4786-f79a-607431828fd5"
      },
      "source": [
        "data['Insulin'].min()"
      ],
      "execution_count": 147,
      "outputs": [
        {
          "output_type": "execute_result",
          "data": {
            "text/plain": [
              "15.0"
            ]
          },
          "metadata": {
            "tags": []
          },
          "execution_count": 147
        }
      ]
    },
    {
      "cell_type": "code",
      "metadata": {
        "colab": {
          "base_uri": "https://localhost:8080/"
        },
        "id": "3Yo_Hjyf8w3S",
        "outputId": "a1da143d-a664-4090-fe75-353f569ba30c"
      },
      "source": [
        "data.isna().sum()"
      ],
      "execution_count": 148,
      "outputs": [
        {
          "output_type": "execute_result",
          "data": {
            "text/plain": [
              "Pregnancies                    0\n",
              "Glucose                        0\n",
              "BloodPressure                186\n",
              "SkinThickness               2920\n",
              "Insulin                     4582\n",
              "BMI                           51\n",
              "DiabetesPedigreeFunction       0\n",
              "Age                            0\n",
              "Outcome                     2000\n",
              "dtype: int64"
            ]
          },
          "metadata": {
            "tags": []
          },
          "execution_count": 148
        }
      ]
    },
    {
      "cell_type": "code",
      "metadata": {
        "colab": {
          "base_uri": "https://localhost:8080/",
          "height": 1000
        },
        "id": "8H-yIBcMtNTj",
        "outputId": "b5841db3-e722-4393-87e8-5dacee44fe1d"
      },
      "source": [
        "from pylab import rcParams\r\n",
        "\r\n",
        "rcParams['figure.figsize'] = 15, 15\r\n",
        "train_features.hist(bins=20)\r\n",
        "plt.tight_layout()"
      ],
      "execution_count": 149,
      "outputs": [
        {
          "output_type": "display_data",
          "data": {
            "image/png": "[encoded data removed]",
            "text/plain": [
              "<Figure size 1080x1080 with 9 Axes>"
            ]
          },
          "metadata": {
            "tags": []
          }
        }
      ]
    },
    {
      "cell_type": "code",
      "metadata": {
        "colab": {
          "base_uri": "https://localhost:8080/",
          "height": 1000
        },
        "id": "-tlGxwVE76Zq",
        "outputId": "067165ac-83a3-4713-eabf-2d860b8cd781"
      },
      "source": [
        "rcParams['figure.figsize'] = 15, 15\r\n",
        "test_features.hist(bins=20)\r\n",
        "plt.tight_layout()"
      ],
      "execution_count": 150,
      "outputs": [
        {
          "output_type": "display_data",
          "data": {
            "image/png": "[encoded data removed]",
            "text/plain": [
              "<Figure size 1080x1080 with 9 Axes>"
            ]
          },
          "metadata": {
            "tags": []
          }
        }
      ]
    },
    {
      "cell_type": "code",
      "metadata": {
        "id": "dAmIt8oZ5Dzi"
      },
      "source": [
        "#p01 = train_features.quantile(0.01)\r\n",
        "#p99 = train_features.quantile(0.99)\r\n",
        "\r\n",
        "#print(p01)\r\n",
        "#print(p99)"
      ],
      "execution_count": 151,
      "outputs": []
    },
    {
      "cell_type": "code",
      "metadata": {
        "colab": {
          "base_uri": "https://localhost:8080/",
          "height": 995
        },
        "id": "xi3pALYs9ozj",
        "outputId": "777e9c7c-dfa4-4d93-ce4d-0acdab062f3d"
      },
      "source": [
        "# Display numerical correlations (pearson) between features on heatmap.\r\n",
        "\r\n",
        "sns.set(font_scale=1.1)\r\n",
        "correlation_train = train.corr()\r\n",
        "mask = np.triu(correlation_train.corr())\r\n",
        "plt.figure(figsize=(20, 20))\r\n",
        "sns.heatmap(correlation_train,\r\n",
        "            annot=True,\r\n",
        "            fmt='.1f',\r\n",
        "            cmap='coolwarm',\r\n",
        "            square=True,\r\n",
        "            mask=mask,\r\n",
        "            linewidths=1,\r\n",
        "            cbar=False)\r\n",
        "\r\n",
        "plt.show()"
      ],
      "execution_count": 152,
      "outputs": [
        {
          "output_type": "display_data",
          "data": {
            "image/png": "[encoded data removed]",
            "text/plain": [
              "<Figure size 1440x1440 with 1 Axes>"
            ]
          },
          "metadata": {
            "tags": []
          }
        }
      ]
    },
    {
      "cell_type": "code",
      "metadata": {
        "id": "_hdWuRKuBzh6"
      },
      "source": [
        "def median_target(var):   \r\n",
        "    temp = data[data[var].notnull()]\r\n",
        "    temp = temp[[var, 'Outcome']].groupby(['Outcome'])[[var]].median().reset_index()\r\n",
        "    return temp\r\n",
        "\r\n",
        "def mean_target(var):   \r\n",
        "    temp = data[data[var].notnull()]\r\n",
        "    temp = temp[[var, 'Outcome']].groupby(['Outcome'])[[var]].mean().reset_index()\r\n",
        "    return temp"
      ],
      "execution_count": 153,
      "outputs": []
    },
    {
      "cell_type": "code",
      "metadata": {
        "colab": {
          "base_uri": "https://localhost:8080/",
          "height": 108
        },
        "id": "acvX1oUYE0OG",
        "outputId": "633a0c3b-a8e3-4399-eda7-78f656ed6ded"
      },
      "source": [
        "mean_target('Insulin')"
      ],
      "execution_count": 154,
      "outputs": [
        {
          "output_type": "execute_result",
          "data": {
            "text/html": [
              "<div>\n",
              "<style scoped>\n",
              "    .dataframe tbody tr th:only-of-type {\n",
              "        vertical-align: middle;\n",
              "    }\n",
              "\n",
              "    .dataframe tbody tr th {\n",
              "        vertical-align: top;\n",
              "    }\n",
              "\n",
              "    .dataframe thead th {\n",
              "        text-align: right;\n",
              "    }\n",
              "</style>\n",
              "<table border=\"1\" class=\"dataframe\">\n",
              "  <thead>\n",
              "    <tr style=\"text-align: right;\">\n",
              "      <th></th>\n",
              "      <th>Outcome</th>\n",
              "      <th>Insulin</th>\n",
              "    </tr>\n",
              "  </thead>\n",
              "  <tbody>\n",
              "    <tr>\n",
              "      <th>0</th>\n",
              "      <td>0.0</td>\n",
              "      <td>130.455621</td>\n",
              "    </tr>\n",
              "    <tr>\n",
              "      <th>1</th>\n",
              "      <td>1.0</td>\n",
              "      <td>148.770115</td>\n",
              "    </tr>\n",
              "  </tbody>\n",
              "</table>\n",
              "</div>"
            ],
            "text/plain": [
              "   Outcome     Insulin\n",
              "0      0.0  130.455621\n",
              "1      1.0  148.770115"
            ]
          },
          "metadata": {
            "tags": []
          },
          "execution_count": 154
        }
      ]
    },
    {
      "cell_type": "code",
      "metadata": {
        "id": "sM6x5diPGVBc"
      },
      "source": [
        "data.loc[(data['Outcome'] == 0 ) & (data['Insulin'].isna()), 'Insulin'] = 130.45\r\n",
        "data.loc[(data['Outcome'] == 1 ) & (data['Insulin'].isna()), 'Insulin'] = 148.77\r\n",
        "data.loc[(data['Outcome'].isna()) & (data['Insulin'].isna()), 'Insulin'] = (130.45+148.77) / 2"
      ],
      "execution_count": 155,
      "outputs": []
    },
    {
      "cell_type": "code",
      "metadata": {
        "colab": {
          "base_uri": "https://localhost:8080/",
          "height": 108
        },
        "id": "db47nYeqGqYI",
        "outputId": "f849411c-e3c5-49c4-a9ac-e4db5924ed7d"
      },
      "source": [
        "median_target('Glucose')"
      ],
      "execution_count": 156,
      "outputs": [
        {
          "output_type": "execute_result",
          "data": {
            "text/html": [
              "<div>\n",
              "<style scoped>\n",
              "    .dataframe tbody tr th:only-of-type {\n",
              "        vertical-align: middle;\n",
              "    }\n",
              "\n",
              "    .dataframe tbody tr th {\n",
              "        vertical-align: top;\n",
              "    }\n",
              "\n",
              "    .dataframe thead th {\n",
              "        text-align: right;\n",
              "    }\n",
              "</style>\n",
              "<table border=\"1\" class=\"dataframe\">\n",
              "  <thead>\n",
              "    <tr style=\"text-align: right;\">\n",
              "      <th></th>\n",
              "      <th>Outcome</th>\n",
              "      <th>Glucose</th>\n",
              "    </tr>\n",
              "  </thead>\n",
              "  <tbody>\n",
              "    <tr>\n",
              "      <th>0</th>\n",
              "      <td>0.0</td>\n",
              "      <td>111</td>\n",
              "    </tr>\n",
              "    <tr>\n",
              "      <th>1</th>\n",
              "      <td>1.0</td>\n",
              "      <td>115</td>\n",
              "    </tr>\n",
              "  </tbody>\n",
              "</table>\n",
              "</div>"
            ],
            "text/plain": [
              "   Outcome  Glucose\n",
              "0      0.0      111\n",
              "1      1.0      115"
            ]
          },
          "metadata": {
            "tags": []
          },
          "execution_count": 156
        }
      ]
    },
    {
      "cell_type": "code",
      "metadata": {
        "id": "yrr8tWnHHAIG"
      },
      "source": [
        "data.loc[(data['Outcome'] == 0 ) & (data['Glucose'].isnull()), 'Glucose'] = 111\r\n",
        "data.loc[(data['Outcome'] == 1 ) & (data['Glucose'].isnull()), 'Glucose'] = 115\r\n",
        "data.loc[(data['Outcome'].isna()) & (data['Glucose'].isna()), 'Glucose'] = (111+115) / 2"
      ],
      "execution_count": 157,
      "outputs": []
    },
    {
      "cell_type": "code",
      "metadata": {
        "colab": {
          "base_uri": "https://localhost:8080/",
          "height": 108
        },
        "id": "FculgbcCHLLk",
        "outputId": "78cdb824-c473-48e6-9aab-aa4207c7f06a"
      },
      "source": [
        "median_target('SkinThickness')"
      ],
      "execution_count": 158,
      "outputs": [
        {
          "output_type": "execute_result",
          "data": {
            "text/html": [
              "<div>\n",
              "<style scoped>\n",
              "    .dataframe tbody tr th:only-of-type {\n",
              "        vertical-align: middle;\n",
              "    }\n",
              "\n",
              "    .dataframe tbody tr th {\n",
              "        vertical-align: top;\n",
              "    }\n",
              "\n",
              "    .dataframe thead th {\n",
              "        text-align: right;\n",
              "    }\n",
              "</style>\n",
              "<table border=\"1\" class=\"dataframe\">\n",
              "  <thead>\n",
              "    <tr style=\"text-align: right;\">\n",
              "      <th></th>\n",
              "      <th>Outcome</th>\n",
              "      <th>SkinThickness</th>\n",
              "    </tr>\n",
              "  </thead>\n",
              "  <tbody>\n",
              "    <tr>\n",
              "      <th>0</th>\n",
              "      <td>0.0</td>\n",
              "      <td>26.0</td>\n",
              "    </tr>\n",
              "    <tr>\n",
              "      <th>1</th>\n",
              "      <td>1.0</td>\n",
              "      <td>32.0</td>\n",
              "    </tr>\n",
              "  </tbody>\n",
              "</table>\n",
              "</div>"
            ],
            "text/plain": [
              "   Outcome  SkinThickness\n",
              "0      0.0           26.0\n",
              "1      1.0           32.0"
            ]
          },
          "metadata": {
            "tags": []
          },
          "execution_count": 158
        }
      ]
    },
    {
      "cell_type": "code",
      "metadata": {
        "id": "88ezLx50HdNd"
      },
      "source": [
        "data.loc[(data['Outcome'] == 0 ) & (data['SkinThickness'].isnull()), 'SkinThickness'] = 26\r\n",
        "data.loc[(data['Outcome'] == 1 ) & (data['SkinThickness'].isnull()), 'SkinThickness'] = 32\r\n",
        "data.loc[(data['Outcome'].isna()) & (data['SkinThickness'].isna()), 'SkinThickness'] = (26+32) / 2"
      ],
      "execution_count": 159,
      "outputs": []
    },
    {
      "cell_type": "code",
      "metadata": {
        "colab": {
          "base_uri": "https://localhost:8080/",
          "height": 108
        },
        "id": "1dZj3kESHkog",
        "outputId": "21197bcb-9646-4dc6-eaef-e0a918e82e61"
      },
      "source": [
        "median_target('BloodPressure')"
      ],
      "execution_count": 160,
      "outputs": [
        {
          "output_type": "execute_result",
          "data": {
            "text/html": [
              "<div>\n",
              "<style scoped>\n",
              "    .dataframe tbody tr th:only-of-type {\n",
              "        vertical-align: middle;\n",
              "    }\n",
              "\n",
              "    .dataframe tbody tr th {\n",
              "        vertical-align: top;\n",
              "    }\n",
              "\n",
              "    .dataframe thead th {\n",
              "        text-align: right;\n",
              "    }\n",
              "</style>\n",
              "<table border=\"1\" class=\"dataframe\">\n",
              "  <thead>\n",
              "    <tr style=\"text-align: right;\">\n",
              "      <th></th>\n",
              "      <th>Outcome</th>\n",
              "      <th>BloodPressure</th>\n",
              "    </tr>\n",
              "  </thead>\n",
              "  <tbody>\n",
              "    <tr>\n",
              "      <th>0</th>\n",
              "      <td>0.0</td>\n",
              "      <td>70.0</td>\n",
              "    </tr>\n",
              "    <tr>\n",
              "      <th>1</th>\n",
              "      <td>1.0</td>\n",
              "      <td>72.0</td>\n",
              "    </tr>\n",
              "  </tbody>\n",
              "</table>\n",
              "</div>"
            ],
            "text/plain": [
              "   Outcome  BloodPressure\n",
              "0      0.0           70.0\n",
              "1      1.0           72.0"
            ]
          },
          "metadata": {
            "tags": []
          },
          "execution_count": 160
        }
      ]
    },
    {
      "cell_type": "code",
      "metadata": {
        "id": "XWknlM4eHupx"
      },
      "source": [
        "data.loc[(data['Outcome'] == 0 ) & (data['BloodPressure'].isnull()), 'BloodPressure'] = 70\r\n",
        "data.loc[(data['Outcome'] == 1 ) & (data['BloodPressure'].isnull()), 'BloodPressure'] = 72\r\n",
        "data.loc[(data['Outcome'].isna()) & (data['BloodPressure'].isna()), 'BloodPressure'] = (70+72) / 2"
      ],
      "execution_count": 161,
      "outputs": []
    },
    {
      "cell_type": "code",
      "metadata": {
        "colab": {
          "base_uri": "https://localhost:8080/",
          "height": 108
        },
        "id": "DbX9VEkLJwR-",
        "outputId": "08918ce0-39ec-4453-9580-a7eedf20fd1e"
      },
      "source": [
        "median_target('BMI')"
      ],
      "execution_count": 162,
      "outputs": [
        {
          "output_type": "execute_result",
          "data": {
            "text/html": [
              "<div>\n",
              "<style scoped>\n",
              "    .dataframe tbody tr th:only-of-type {\n",
              "        vertical-align: middle;\n",
              "    }\n",
              "\n",
              "    .dataframe tbody tr th {\n",
              "        vertical-align: top;\n",
              "    }\n",
              "\n",
              "    .dataframe thead th {\n",
              "        text-align: right;\n",
              "    }\n",
              "</style>\n",
              "<table border=\"1\" class=\"dataframe\">\n",
              "  <thead>\n",
              "    <tr style=\"text-align: right;\">\n",
              "      <th></th>\n",
              "      <th>Outcome</th>\n",
              "      <th>BMI</th>\n",
              "    </tr>\n",
              "  </thead>\n",
              "  <tbody>\n",
              "    <tr>\n",
              "      <th>0</th>\n",
              "      <td>0.0</td>\n",
              "      <td>33.619964</td>\n",
              "    </tr>\n",
              "    <tr>\n",
              "      <th>1</th>\n",
              "      <td>1.0</td>\n",
              "      <td>39.217924</td>\n",
              "    </tr>\n",
              "  </tbody>\n",
              "</table>\n",
              "</div>"
            ],
            "text/plain": [
              "   Outcome        BMI\n",
              "0      0.0  33.619964\n",
              "1      1.0  39.217924"
            ]
          },
          "metadata": {
            "tags": []
          },
          "execution_count": 162
        }
      ]
    },
    {
      "cell_type": "code",
      "metadata": {
        "id": "U1XEdM8qJ4_m"
      },
      "source": [
        "data.loc[(data['Outcome'] == 0 ) & (data['BMI'].isnull()), 'BMI'] = 33.62\r\n",
        "data.loc[(data['Outcome'] == 1 ) & (data['BMI'].isnull()), 'BMI'] = 39.22\r\n",
        "data.loc[(data['Outcome'].isna()) & (data['BMI'].isnull()), 'BMI'] = (33.62+39.22) / 2"
      ],
      "execution_count": 163,
      "outputs": []
    },
    {
      "cell_type": "code",
      "metadata": {
        "colab": {
          "base_uri": "https://localhost:8080/"
        },
        "id": "ti55u3GUKMmC",
        "outputId": "ce2b8f82-9973-4c20-c558-3550b6e56c52"
      },
      "source": [
        "data.isna().sum()"
      ],
      "execution_count": 164,
      "outputs": [
        {
          "output_type": "execute_result",
          "data": {
            "text/plain": [
              "Pregnancies                    0\n",
              "Glucose                        0\n",
              "BloodPressure                  0\n",
              "SkinThickness                  0\n",
              "Insulin                        0\n",
              "BMI                            0\n",
              "DiabetesPedigreeFunction       0\n",
              "Age                            0\n",
              "Outcome                     2000\n",
              "dtype: int64"
            ]
          },
          "metadata": {
            "tags": []
          },
          "execution_count": 164
        }
      ]
    },
    {
      "cell_type": "code",
      "metadata": {
        "colab": {
          "base_uri": "https://localhost:8080/"
        },
        "id": "_76xlNEc_NFD",
        "outputId": "08cf390f-996e-4370-d226-d4131fe2e78a"
      },
      "source": [
        "#features = pd.concat([train_features, test_features]).reset_index(drop=True)\r\n",
        "data.drop('Outcome', axis=1, inplace=True)\r\n",
        "features = data\r\n",
        "print(features.shape)"
      ],
      "execution_count": 165,
      "outputs": [
        {
          "output_type": "stream",
          "text": [
            "(5000, 8)\n"
          ],
          "name": "stdout"
        }
      ]
    },
    {
      "cell_type": "code",
      "metadata": {
        "colab": {
          "base_uri": "https://localhost:8080/",
          "height": 198
        },
        "id": "cvoCOMFHRdzz",
        "outputId": "092528df-5594-4f3b-8f2c-c15415abe57f"
      },
      "source": [
        "features.sample(5)"
      ],
      "execution_count": 166,
      "outputs": [
        {
          "output_type": "execute_result",
          "data": {
            "text/html": [
              "<div>\n",
              "<style scoped>\n",
              "    .dataframe tbody tr th:only-of-type {\n",
              "        vertical-align: middle;\n",
              "    }\n",
              "\n",
              "    .dataframe tbody tr th {\n",
              "        vertical-align: top;\n",
              "    }\n",
              "\n",
              "    .dataframe thead th {\n",
              "        text-align: right;\n",
              "    }\n",
              "</style>\n",
              "<table border=\"1\" class=\"dataframe\">\n",
              "  <thead>\n",
              "    <tr style=\"text-align: right;\">\n",
              "      <th></th>\n",
              "      <th>Pregnancies</th>\n",
              "      <th>Glucose</th>\n",
              "      <th>BloodPressure</th>\n",
              "      <th>SkinThickness</th>\n",
              "      <th>Insulin</th>\n",
              "      <th>BMI</th>\n",
              "      <th>DiabetesPedigreeFunction</th>\n",
              "      <th>Age</th>\n",
              "    </tr>\n",
              "  </thead>\n",
              "  <tbody>\n",
              "    <tr>\n",
              "      <th>4509</th>\n",
              "      <td>2</td>\n",
              "      <td>108</td>\n",
              "      <td>84.0</td>\n",
              "      <td>29.0</td>\n",
              "      <td>139.61</td>\n",
              "      <td>39.565032</td>\n",
              "      <td>0.269706</td>\n",
              "      <td>24</td>\n",
              "    </tr>\n",
              "    <tr>\n",
              "      <th>2672</th>\n",
              "      <td>9</td>\n",
              "      <td>125</td>\n",
              "      <td>62.0</td>\n",
              "      <td>32.0</td>\n",
              "      <td>148.77</td>\n",
              "      <td>34.004826</td>\n",
              "      <td>0.231843</td>\n",
              "      <td>28</td>\n",
              "    </tr>\n",
              "    <tr>\n",
              "      <th>2461</th>\n",
              "      <td>2</td>\n",
              "      <td>97</td>\n",
              "      <td>74.0</td>\n",
              "      <td>18.0</td>\n",
              "      <td>130.45</td>\n",
              "      <td>39.657317</td>\n",
              "      <td>0.212933</td>\n",
              "      <td>25</td>\n",
              "    </tr>\n",
              "    <tr>\n",
              "      <th>3415</th>\n",
              "      <td>1</td>\n",
              "      <td>123</td>\n",
              "      <td>64.0</td>\n",
              "      <td>21.0</td>\n",
              "      <td>139.61</td>\n",
              "      <td>27.954169</td>\n",
              "      <td>0.335927</td>\n",
              "      <td>21</td>\n",
              "    </tr>\n",
              "    <tr>\n",
              "      <th>2228</th>\n",
              "      <td>5</td>\n",
              "      <td>153</td>\n",
              "      <td>70.0</td>\n",
              "      <td>36.0</td>\n",
              "      <td>130.45</td>\n",
              "      <td>37.694177</td>\n",
              "      <td>0.527045</td>\n",
              "      <td>32</td>\n",
              "    </tr>\n",
              "  </tbody>\n",
              "</table>\n",
              "</div>"
            ],
            "text/plain": [
              "      Pregnancies  Glucose  ...  DiabetesPedigreeFunction  Age\n",
              "4509            2      108  ...                  0.269706   24\n",
              "2672            9      125  ...                  0.231843   28\n",
              "2461            2       97  ...                  0.212933   25\n",
              "3415            1      123  ...                  0.335927   21\n",
              "2228            5      153  ...                  0.527045   32\n",
              "\n",
              "[5 rows x 8 columns]"
            ]
          },
          "metadata": {
            "tags": []
          },
          "execution_count": 166
        }
      ]
    },
    {
      "cell_type": "code",
      "metadata": {
        "colab": {
          "base_uri": "https://localhost:8080/",
          "height": 288
        },
        "id": "AcbS8kGeRsP9",
        "outputId": "ca8ee38a-dedc-4dad-924b-caec4dbe2380"
      },
      "source": [
        "features.describe()"
      ],
      "execution_count": 167,
      "outputs": [
        {
          "output_type": "execute_result",
          "data": {
            "text/html": [
              "<div>\n",
              "<style scoped>\n",
              "    .dataframe tbody tr th:only-of-type {\n",
              "        vertical-align: middle;\n",
              "    }\n",
              "\n",
              "    .dataframe tbody tr th {\n",
              "        vertical-align: top;\n",
              "    }\n",
              "\n",
              "    .dataframe thead th {\n",
              "        text-align: right;\n",
              "    }\n",
              "</style>\n",
              "<table border=\"1\" class=\"dataframe\">\n",
              "  <thead>\n",
              "    <tr style=\"text-align: right;\">\n",
              "      <th></th>\n",
              "      <th>Pregnancies</th>\n",
              "      <th>Glucose</th>\n",
              "      <th>BloodPressure</th>\n",
              "      <th>SkinThickness</th>\n",
              "      <th>Insulin</th>\n",
              "      <th>BMI</th>\n",
              "      <th>DiabetesPedigreeFunction</th>\n",
              "      <th>Age</th>\n",
              "    </tr>\n",
              "  </thead>\n",
              "  <tbody>\n",
              "    <tr>\n",
              "      <th>count</th>\n",
              "      <td>5000.000000</td>\n",
              "      <td>5000.000000</td>\n",
              "      <td>5000.000000</td>\n",
              "      <td>5000.000000</td>\n",
              "      <td>5000.000000</td>\n",
              "      <td>5000.000000</td>\n",
              "      <td>5000.000000</td>\n",
              "      <td>5000.000000</td>\n",
              "    </tr>\n",
              "    <tr>\n",
              "      <th>mean</th>\n",
              "      <td>3.567800</td>\n",
              "      <td>113.957600</td>\n",
              "      <td>71.381800</td>\n",
              "      <td>27.606000</td>\n",
              "      <td>136.961516</td>\n",
              "      <td>35.707396</td>\n",
              "      <td>0.400987</td>\n",
              "      <td>28.989400</td>\n",
              "    </tr>\n",
              "    <tr>\n",
              "      <th>std</th>\n",
              "      <td>3.040535</td>\n",
              "      <td>21.333505</td>\n",
              "      <td>9.056359</td>\n",
              "      <td>5.492904</td>\n",
              "      <td>27.177783</td>\n",
              "      <td>6.584771</td>\n",
              "      <td>0.271619</td>\n",
              "      <td>8.509722</td>\n",
              "    </tr>\n",
              "    <tr>\n",
              "      <th>min</th>\n",
              "      <td>0.000000</td>\n",
              "      <td>57.000000</td>\n",
              "      <td>38.000000</td>\n",
              "      <td>7.000000</td>\n",
              "      <td>15.000000</td>\n",
              "      <td>24.763302</td>\n",
              "      <td>0.137377</td>\n",
              "      <td>21.000000</td>\n",
              "    </tr>\n",
              "    <tr>\n",
              "      <th>25%</th>\n",
              "      <td>1.000000</td>\n",
              "      <td>100.000000</td>\n",
              "      <td>64.000000</td>\n",
              "      <td>26.000000</td>\n",
              "      <td>130.450000</td>\n",
              "      <td>32.637903</td>\n",
              "      <td>0.232290</td>\n",
              "      <td>22.000000</td>\n",
              "    </tr>\n",
              "    <tr>\n",
              "      <th>50%</th>\n",
              "      <td>3.000000</td>\n",
              "      <td>111.000000</td>\n",
              "      <td>70.000000</td>\n",
              "      <td>29.000000</td>\n",
              "      <td>139.610000</td>\n",
              "      <td>33.841397</td>\n",
              "      <td>0.269691</td>\n",
              "      <td>26.000000</td>\n",
              "    </tr>\n",
              "    <tr>\n",
              "      <th>75%</th>\n",
              "      <td>6.000000</td>\n",
              "      <td>125.000000</td>\n",
              "      <td>78.000000</td>\n",
              "      <td>30.000000</td>\n",
              "      <td>139.610000</td>\n",
              "      <td>39.627290</td>\n",
              "      <td>0.506604</td>\n",
              "      <td>33.000000</td>\n",
              "    </tr>\n",
              "    <tr>\n",
              "      <th>max</th>\n",
              "      <td>13.000000</td>\n",
              "      <td>199.000000</td>\n",
              "      <td>110.000000</td>\n",
              "      <td>52.000000</td>\n",
              "      <td>744.000000</td>\n",
              "      <td>53.400629</td>\n",
              "      <td>2.302072</td>\n",
              "      <td>67.000000</td>\n",
              "    </tr>\n",
              "  </tbody>\n",
              "</table>\n",
              "</div>"
            ],
            "text/plain": [
              "       Pregnancies      Glucose  ...  DiabetesPedigreeFunction          Age\n",
              "count  5000.000000  5000.000000  ...               5000.000000  5000.000000\n",
              "mean      3.567800   113.957600  ...                  0.400987    28.989400\n",
              "std       3.040535    21.333505  ...                  0.271619     8.509722\n",
              "min       0.000000    57.000000  ...                  0.137377    21.000000\n",
              "25%       1.000000   100.000000  ...                  0.232290    22.000000\n",
              "50%       3.000000   111.000000  ...                  0.269691    26.000000\n",
              "75%       6.000000   125.000000  ...                  0.506604    33.000000\n",
              "max      13.000000   199.000000  ...                  2.302072    67.000000\n",
              "\n",
              "[8 rows x 8 columns]"
            ]
          },
          "metadata": {
            "tags": []
          },
          "execution_count": 167
        }
      ]
    },
    {
      "cell_type": "code",
      "metadata": {
        "id": "dU0c50aG3rlS"
      },
      "source": [
        "#X_train, X_valid, y_train, y_valid = train_test_split(features, y_train, test_size=0.2, random_state=SEED)"
      ],
      "execution_count": 168,
      "outputs": []
    },
    {
      "cell_type": "code",
      "metadata": {
        "id": "K_Wy9AOl1Vhl"
      },
      "source": [
        "#model = lgb.LGBMClassifier(boosting_type= 'gbdt',\r\n",
        "#          objective = 'binary',\r\n",
        "#          n_jobs = 3, # Updated from 'nthread'\r\n",
        "#          silent = True,\r\n",
        "#          max_depth = params['max_depth'],\r\n",
        "#          max_bin = params['max_bin'],\r\n",
        "#          subsample_for_bin = params['subsample_for_bin'],\r\n",
        "#          subsample = params['subsample'],\r\n",
        "#          subsample_freq = params['subsample_freq'],\r\n",
        "#          min_split_gain = params['min_split_gain'],\r\n",
        "#          min_child_weight = params['min_child_weight'],\r\n",
        "#          min_child_samples = params['min_child_samples'],\r\n",
        "#          scale_pos_weight = params['scale_pos_weight'])\r\n",
        "#\r\n",
        "#grid = GridSearchCV(model, grid_params, cv=5, verbose=2)\r\n",
        "#grid.fit(X_train, y_train)"
      ],
      "execution_count": 169,
      "outputs": []
    },
    {
      "cell_type": "code",
      "metadata": {
        "id": "JAosUMjb8YPz"
      },
      "source": [
        "#params['colsample_bytree'] = grid.best_params_['colsample_bytree']\r\n",
        "#params['learning_rate'] = grid.best_params_['learning_rate']\r\n",
        "# params['max_bin'] = grid.best_params_['max_bin']\r\n",
        "#params['num_leaves'] = grid.best_params_['num_leaves']\r\n",
        "#params['reg_alpha'] = grid.best_params_['reg_alpha']\r\n",
        "#params['reg_lambda'] = grid.best_params_['reg_lambda']\r\n",
        "#params['subsample'] = grid.best_params_['subsample']\r\n",
        "# params['subsample_for_bin'] = grid.best_params_['subsample_for_bin']"
      ],
      "execution_count": 170,
      "outputs": []
    },
    {
      "cell_type": "code",
      "metadata": {
        "id": "IWRjsUnF1wPA"
      },
      "source": [
        "#print(grid.best_params_)\r\n",
        "#print(grid.best_estimator_)"
      ],
      "execution_count": 171,
      "outputs": []
    },
    {
      "cell_type": "code",
      "metadata": {
        "id": "Sy45NQ0m16-s"
      },
      "source": [
        "#print(grid.score(X_valid, y_valid))"
      ],
      "execution_count": 172,
      "outputs": []
    },
    {
      "cell_type": "code",
      "metadata": {
        "id": "ypQOSXkUR-py"
      },
      "source": [
        "# Separating train and test set.\r\n",
        "\r\n",
        "X_train = features.iloc[:len(y_train), :]\r\n",
        "X_test = features.iloc[len(train):, :]\r\n",
        "\r\n",
        "#X_train = pd.concat([X_train, X_valid]).reset_index(drop=True)\r\n",
        "#y_train = pd.concat([y_train, y_valid]).reset_index(drop=True)\r\n",
        "#X_test = test_features"
      ],
      "execution_count": 173,
      "outputs": []
    },
    {
      "cell_type": "code",
      "metadata": {
        "colab": {
          "base_uri": "https://localhost:8080/"
        },
        "id": "OeBjt3qy8W1L",
        "outputId": "46cc97d8-8ff0-4f9c-ca40-6317a42b3935"
      },
      "source": [
        "X_test.shape"
      ],
      "execution_count": 174,
      "outputs": [
        {
          "output_type": "execute_result",
          "data": {
            "text/plain": [
              "(2000, 8)"
            ]
          },
          "metadata": {
            "tags": []
          },
          "execution_count": 174
        }
      ]
    },
    {
      "cell_type": "code",
      "metadata": {
        "id": "Z7qiroZ1UDLi",
        "colab": {
          "base_uri": "https://localhost:8080/"
        },
        "outputId": "ee8ffc42-0fb9-4deb-eb5d-fd45406a5026"
      },
      "source": [
        "#cross validation\r\n",
        "y_preds = []\r\n",
        "models = []\r\n",
        "oof_train = np.zeros((len(X_train),))\r\n",
        "cv = StratifiedKFold(n_splits=5, shuffle=True, random_state=SEED)\r\n",
        "\r\n",
        "for fold_id, (train_index, val_index) in enumerate(cv.split(X_train, y_train)):\r\n",
        "    X_tr = X_train.loc[train_index, :]\r\n",
        "    X_valid = X_train.loc[val_index, :]\r\n",
        "    y_tr = y_train[train_index]\r\n",
        "    y_valid = y_train[val_index]\r\n",
        "\r\n",
        "    lgb_train = lgb.Dataset(X_train, y_train)\r\n",
        "    lgb_eval = lgb.Dataset(X_valid, y_valid, reference=lgb_train, )\r\n",
        "\r\n",
        "\r\n",
        "    model = lgb.train(\r\n",
        "        params, lgb_train,\r\n",
        "        valid_sets=[lgb_train, lgb_eval],\r\n",
        "        verbose_eval=100,\r\n",
        "        num_boost_round=10000,\r\n",
        "        early_stopping_rounds=10\r\n",
        "    )\r\n",
        "\r\n",
        "    oof_train[val_index] = model.predict(X_valid, num_iteration=model.best_iteration)\r\n",
        "    y_pred = model.predict(X_test, num_iteration=model.best_iteration)\r\n",
        "\r\n",
        "    y_preds.append(y_pred)\r\n",
        "    models.append(model)"
      ],
      "execution_count": 175,
      "outputs": [
        {
          "output_type": "stream",
          "text": [
            "Training until validation scores don't improve for 10 rounds.\n",
            "[100]\ttraining's binary_logloss: 0.0509487\tvalid_1's binary_logloss: 0.0524958\n",
            "Early stopping, best iteration is:\n",
            "[173]\ttraining's binary_logloss: 0.0421586\tvalid_1's binary_logloss: 0.0422696\n",
            "Training until validation scores don't improve for 10 rounds.\n",
            "[100]\ttraining's binary_logloss: 0.0509487\tvalid_1's binary_logloss: 0.0513258\n",
            "Early stopping, best iteration is:\n",
            "[173]\ttraining's binary_logloss: 0.0421586\tvalid_1's binary_logloss: 0.0418127\n",
            "Training until validation scores don't improve for 10 rounds.\n",
            "[100]\ttraining's binary_logloss: 0.0509487\tvalid_1's binary_logloss: 0.0545385\n",
            "Early stopping, best iteration is:\n",
            "[173]\ttraining's binary_logloss: 0.0421586\tvalid_1's binary_logloss: 0.0470444\n",
            "Training until validation scores don't improve for 10 rounds.\n",
            "[100]\ttraining's binary_logloss: 0.0509487\tvalid_1's binary_logloss: 0.0427709\n",
            "Early stopping, best iteration is:\n",
            "[172]\ttraining's binary_logloss: 0.0421811\tvalid_1's binary_logloss: 0.0362517\n",
            "Training until validation scores don't improve for 10 rounds.\n",
            "[100]\ttraining's binary_logloss: 0.0509487\tvalid_1's binary_logloss: 0.0536125\n",
            "Early stopping, best iteration is:\n",
            "[173]\ttraining's binary_logloss: 0.0421586\tvalid_1's binary_logloss: 0.0434082\n"
          ],
          "name": "stdout"
        }
      ]
    },
    {
      "cell_type": "code",
      "metadata": {
        "colab": {
          "base_uri": "https://localhost:8080/"
        },
        "id": "PulxDaapKfBa",
        "outputId": "7d7e4574-047c-4b85-b1b0-daf17948ad30"
      },
      "source": [
        "print(oof_train[:10])\r\n",
        "\r\n",
        "scores = [\r\n",
        "    m.best_score['valid_1']['binary_logloss'] for m in models\r\n",
        "]\r\n",
        "score = sum(scores) / len(scores)\r\n",
        "print('===CV scores===')\r\n",
        "print(scores)\r\n",
        "print(score)"
      ],
      "execution_count": 176,
      "outputs": [
        {
          "output_type": "stream",
          "text": [
            "[0.98861588 0.00284005 0.01678785 0.00665925 0.70504474 0.00284526\n",
            " 0.94599981 0.98123588 0.00674642 0.00415309]\n",
            "===CV scores===\n",
            "[0.04226959365617721, 0.04181274347602618, 0.047044357105888654, 0.03625168635342339, 0.04340819003844027]\n",
            "0.04215731412599114\n"
          ],
          "name": "stdout"
        }
      ]
    },
    {
      "cell_type": "code",
      "metadata": {
        "colab": {
          "base_uri": "https://localhost:8080/"
        },
        "id": "kyj6p7h-I0RF",
        "outputId": "d532e83b-9f91-41c9-fdd8-0fdd9e0a857b"
      },
      "source": [
        "y_pred_oof = (oof_train > 0.5).astype(int)\r\n",
        "accuracy_score(y_train, y_pred_oof)"
      ],
      "execution_count": 177,
      "outputs": [
        {
          "output_type": "execute_result",
          "data": {
            "text/plain": [
              "0.9883333333333333"
            ]
          },
          "metadata": {
            "tags": []
          },
          "execution_count": 177
        }
      ]
    },
    {
      "cell_type": "code",
      "metadata": {
        "colab": {
          "base_uri": "https://localhost:8080/"
        },
        "id": "DcCE_zVCLC3O",
        "outputId": "30b6b9aa-115e-4d04-f31e-702559c107dc"
      },
      "source": [
        "y_sub = sum(y_preds) / len(y_preds)\r\n",
        "y_sub = (y_sub > 0.5).astype(int)\r\n",
        "y_sub[:20]"
      ],
      "execution_count": 182,
      "outputs": [
        {
          "output_type": "execute_result",
          "data": {
            "text/plain": [
              "array([0, 0, 0, 0, 0, 0, 0, 0, 0, 0, 0, 0, 1, 0, 0, 0, 0, 0, 0, 0])"
            ]
          },
          "metadata": {
            "tags": []
          },
          "execution_count": 182
        }
      ]
    },
    {
      "cell_type": "code",
      "metadata": {
        "colab": {
          "base_uri": "https://localhost:8080/",
          "height": 198
        },
        "id": "ukJww3PQZF_k",
        "outputId": "d18e8934-7deb-4770-e8a4-447debf911ce"
      },
      "source": [
        "sub[1] = y_sub\r\n",
        "sub.to_csv('submission_lgbm_ver4.3.csv', index=False, header=False)\r\n",
        "\r\n",
        "sub.head()"
      ],
      "execution_count": 179,
      "outputs": [
        {
          "output_type": "execute_result",
          "data": {
            "text/html": [
              "<div>\n",
              "<style scoped>\n",
              "    .dataframe tbody tr th:only-of-type {\n",
              "        vertical-align: middle;\n",
              "    }\n",
              "\n",
              "    .dataframe tbody tr th {\n",
              "        vertical-align: top;\n",
              "    }\n",
              "\n",
              "    .dataframe thead th {\n",
              "        text-align: right;\n",
              "    }\n",
              "</style>\n",
              "<table border=\"1\" class=\"dataframe\">\n",
              "  <thead>\n",
              "    <tr style=\"text-align: right;\">\n",
              "      <th></th>\n",
              "      <th>0</th>\n",
              "      <th>1</th>\n",
              "    </tr>\n",
              "  </thead>\n",
              "  <tbody>\n",
              "    <tr>\n",
              "      <th>0</th>\n",
              "      <td>398</td>\n",
              "      <td>0</td>\n",
              "    </tr>\n",
              "    <tr>\n",
              "      <th>1</th>\n",
              "      <td>3833</td>\n",
              "      <td>0</td>\n",
              "    </tr>\n",
              "    <tr>\n",
              "      <th>2</th>\n",
              "      <td>4836</td>\n",
              "      <td>0</td>\n",
              "    </tr>\n",
              "    <tr>\n",
              "      <th>3</th>\n",
              "      <td>4572</td>\n",
              "      <td>0</td>\n",
              "    </tr>\n",
              "    <tr>\n",
              "      <th>4</th>\n",
              "      <td>636</td>\n",
              "      <td>0</td>\n",
              "    </tr>\n",
              "  </tbody>\n",
              "</table>\n",
              "</div>"
            ],
            "text/plain": [
              "      0  1\n",
              "0   398  0\n",
              "1  3833  0\n",
              "2  4836  0\n",
              "3  4572  0\n",
              "4   636  0"
            ]
          },
          "metadata": {
            "tags": []
          },
          "execution_count": 179
        }
      ]
    },
    {
      "cell_type": "code",
      "metadata": {
        "colab": {
          "base_uri": "https://localhost:8080/",
          "height": 17
        },
        "id": "TFM0LvSEHfSb",
        "outputId": "e4279dde-67e2-4802-c401-cd19b6523639"
      },
      "source": [
        "files.download('submission_lgbm_ver4.3.csv') "
      ],
      "execution_count": 180,
      "outputs": [
        {
          "output_type": "display_data",
          "data": {
            "application/javascript": [
              "\n",
              "    async function download(id, filename, size) {\n",
              "      if (!google.colab.kernel.accessAllowed) {\n",
              "        return;\n",
              "      }\n",
              "      const div = document.createElement('div');\n",
              "      const label = document.createElement('label');\n",
              "      label.textContent = `Downloading \"${filename}\": `;\n",
              "      div.appendChild(label);\n",
              "      const progress = document.createElement('progress');\n",
              "      progress.max = size;\n",
              "      div.appendChild(progress);\n",
              "      document.body.appendChild(div);\n",
              "\n",
              "      const buffers = [];\n",
              "      let downloaded = 0;\n",
              "\n",
              "      const channel = await google.colab.kernel.comms.open(id);\n",
              "      // Send a message to notify the kernel that we're ready.\n",
              "      channel.send({})\n",
              "\n",
              "      for await (const message of channel.messages) {\n",
              "        // Send a message to notify the kernel that we're ready.\n",
              "        channel.send({})\n",
              "        if (message.buffers) {\n",
              "          for (const buffer of message.buffers) {\n",
              "            buffers.push(buffer);\n",
              "            downloaded += buffer.byteLength;\n",
              "            progress.value = downloaded;\n",
              "          }\n",
              "        }\n",
              "      }\n",
              "      const blob = new Blob(buffers, {type: 'application/binary'});\n",
              "      const a = document.createElement('a');\n",
              "      a.href = window.URL.createObjectURL(blob);\n",
              "      a.download = filename;\n",
              "      div.appendChild(a);\n",
              "      a.click();\n",
              "      div.remove();\n",
              "    }\n",
              "  "
            ],
            "text/plain": [
              "<IPython.core.display.Javascript object>"
            ]
          },
          "metadata": {
            "tags": []
          }
        },
        {
          "output_type": "display_data",
          "data": {
            "application/javascript": [
              "download(\"download_6b486b75-abac-49c4-9ece-c307b440aa1f\", \"submission_lgbm_ver4.3.csv\", 13556)"
            ],
            "text/plain": [
              "<IPython.core.display.Javascript object>"
            ]
          },
          "metadata": {
            "tags": []
          }
        }
      ]
    }
  ]
}